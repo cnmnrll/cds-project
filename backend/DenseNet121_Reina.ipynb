{
  "nbformat": 4,
  "nbformat_minor": 0,
  "metadata": {
    "colab": {
      "provenance": [],
      "gpuType": "T4",
      "machine_shape": "hm"
    },
    "kernelspec": {
      "name": "python3",
      "display_name": "Python 3"
    },
    "language_info": {
      "name": "python"
    },
    "accelerator": "GPU"
  },
  "cells": [
    {
      "cell_type": "markdown",
      "source": [
        "# **Installation**"
      ],
      "metadata": {
        "id": "4SOb7UxT1hdt"
      }
    },
    {
      "cell_type": "code",
      "source": [
        "!pip install opendatasets\n",
        "!pip install split-folders"
      ],
      "metadata": {
        "colab": {
          "base_uri": "https://localhost:8080/"
        },
        "id": "sbWIRRDK1cS1",
        "outputId": "c17f6270-402c-469b-ae25-af1b4e7e6f50"
      },
      "execution_count": null,
      "outputs": [
        {
          "output_type": "stream",
          "name": "stdout",
          "text": [
            "Collecting opendatasets\n",
            "  Downloading opendatasets-0.1.22-py3-none-any.whl (15 kB)\n",
            "Requirement already satisfied: tqdm in /usr/local/lib/python3.10/dist-packages (from opendatasets) (4.66.2)\n",
            "Requirement already satisfied: kaggle in /usr/local/lib/python3.10/dist-packages (from opendatasets) (1.5.16)\n",
            "Requirement already satisfied: click in /usr/local/lib/python3.10/dist-packages (from opendatasets) (8.1.7)\n",
            "Requirement already satisfied: six>=1.10 in /usr/local/lib/python3.10/dist-packages (from kaggle->opendatasets) (1.16.0)\n",
            "Requirement already satisfied: certifi in /usr/local/lib/python3.10/dist-packages (from kaggle->opendatasets) (2024.2.2)\n",
            "Requirement already satisfied: python-dateutil in /usr/local/lib/python3.10/dist-packages (from kaggle->opendatasets) (2.8.2)\n",
            "Requirement already satisfied: requests in /usr/local/lib/python3.10/dist-packages (from kaggle->opendatasets) (2.31.0)\n",
            "Requirement already satisfied: python-slugify in /usr/local/lib/python3.10/dist-packages (from kaggle->opendatasets) (8.0.4)\n",
            "Requirement already satisfied: urllib3 in /usr/local/lib/python3.10/dist-packages (from kaggle->opendatasets) (2.0.7)\n",
            "Requirement already satisfied: bleach in /usr/local/lib/python3.10/dist-packages (from kaggle->opendatasets) (6.1.0)\n",
            "Requirement already satisfied: webencodings in /usr/local/lib/python3.10/dist-packages (from bleach->kaggle->opendatasets) (0.5.1)\n",
            "Requirement already satisfied: text-unidecode>=1.3 in /usr/local/lib/python3.10/dist-packages (from python-slugify->kaggle->opendatasets) (1.3)\n",
            "Requirement already satisfied: charset-normalizer<4,>=2 in /usr/local/lib/python3.10/dist-packages (from requests->kaggle->opendatasets) (3.3.2)\n",
            "Requirement already satisfied: idna<4,>=2.5 in /usr/local/lib/python3.10/dist-packages (from requests->kaggle->opendatasets) (3.6)\n",
            "Installing collected packages: opendatasets\n",
            "Successfully installed opendatasets-0.1.22\n",
            "Collecting split-folders\n",
            "  Downloading split_folders-0.5.1-py3-none-any.whl (8.4 kB)\n",
            "Installing collected packages: split-folders\n",
            "Successfully installed split-folders-0.5.1\n"
          ]
        }
      ]
    },
    {
      "cell_type": "markdown",
      "source": [
        "# **Import Libraries**"
      ],
      "metadata": {
        "id": "4pd_siA0UBpf"
      }
    },
    {
      "cell_type": "code",
      "source": [
        "# Data handling and numerical processing\n",
        "import opendatasets as od\n",
        "import os\n",
        "import numpy as np\n",
        "import pandas as pd\n",
        "import splitfolders\n",
        "from PIL import Image\n",
        "\n",
        "# Visualization\n",
        "import matplotlib.pyplot as plt\n",
        "import matplotlib.image as mpimg\n",
        "import seaborn as sns\n",
        "\n",
        "# Machine Learning / Deep Learning\n",
        "import tensorflow as tf\n",
        "from tensorflow.keras.models import Sequential, Model, load_model\n",
        "from tensorflow.keras.layers import Conv2D, MaxPooling2D, Flatten, Dense, Dropout, GlobalAveragePooling2D\n",
        "from tensorflow.keras.regularizers import l2\n",
        "from tensorflow.keras.applications import VGG16, DenseNet121, ResNet50\n",
        "from tensorflow.keras.preprocessing.image import ImageDataGenerator, load_img, img_to_array\n",
        "from tensorflow.keras.utils import to_categorical\n",
        "from tensorflow.keras.optimizers import Adam\n",
        "from tensorflow.keras.callbacks import EarlyStopping\n",
        "from sklearn.utils.class_weight import compute_class_weight\n",
        "from sklearn.model_selection import KFold\n",
        "\n",
        "# Evaluation Metrics\n",
        "from sklearn.preprocessing import label_binarize\n",
        "from sklearn.metrics import f1_score, precision_score, recall_score, confusion_matrix, classification_report, log_loss, roc_curve, auc\n",
        "\n",
        "# Others\n",
        "import random\n",
        "import datetime\n",
        "from datetime import datetime\n",
        "from itertools import cycle\n",
        "from google.colab import files"
      ],
      "metadata": {
        "id": "XqXjd1TiJBg9"
      },
      "execution_count": null,
      "outputs": []
    },
    {
      "cell_type": "markdown",
      "source": [
        "# **Download dataset**\n",
        "\n",
        "Download the garbage dataset directly from Kaggle and write it into `base_path`. This dataset contains 2,527 images and 6 classes."
      ],
      "metadata": {
        "id": "GcsDoyXbUHvj"
      }
    },
    {
      "cell_type": "code",
      "source": [
        "od.download(\"https://www.kaggle.com/datasets/asdasdasasdas/garbage-classification\")"
      ],
      "metadata": {
        "id": "RL7yRXgxGyN2",
        "colab": {
          "base_uri": "https://localhost:8080/"
        },
        "outputId": "670862ab-76db-49aa-8fe7-69beddc27d68"
      },
      "execution_count": null,
      "outputs": [
        {
          "output_type": "stream",
          "name": "stdout",
          "text": [
            "Please provide your Kaggle credentials to download this dataset. Learn more: http://bit.ly/kaggle-creds\n",
            "Your Kaggle username: reinapeh\n",
            "Your Kaggle Key: ··········\n",
            "Downloading garbage-classification.zip to ./garbage-classification\n"
          ]
        },
        {
          "output_type": "stream",
          "name": "stderr",
          "text": [
            "100%|██████████| 82.0M/82.0M [00:02<00:00, 33.8MB/s]\n"
          ]
        },
        {
          "output_type": "stream",
          "name": "stdout",
          "text": [
            "\n"
          ]
        }
      ]
    },
    {
      "cell_type": "code",
      "source": [
        "base_path = '/content/garbage-classification/garbage classification/Garbage classification'"
      ],
      "metadata": {
        "id": "uy0VPKAXSPzW"
      },
      "execution_count": null,
      "outputs": []
    },
    {
      "cell_type": "code",
      "source": [
        "class_dirs = [os.path.join(base_path, d) for d in os.listdir(base_path) if os.path.isdir(os.path.join(base_path, d))]\n",
        "print(class_dirs)\n",
        "print(f'Total number of classes: {len(class_dirs)}')\n",
        "data = [(os.path.join(d, img), os.path.basename(d)) for d in class_dirs for img in os.listdir(d)]\n",
        "print(f'Total number of images: {len(data)}')"
      ],
      "metadata": {
        "colab": {
          "base_uri": "https://localhost:8080/"
        },
        "id": "JRAdHV3lSBsx",
        "outputId": "d88ea57e-7ddd-4e4a-d1a6-77c7e5315b16"
      },
      "execution_count": null,
      "outputs": [
        {
          "output_type": "stream",
          "name": "stdout",
          "text": [
            "['/content/garbage-classification/garbage classification/Garbage classification/metal', '/content/garbage-classification/garbage classification/Garbage classification/paper', '/content/garbage-classification/garbage classification/Garbage classification/plastic', '/content/garbage-classification/garbage classification/Garbage classification/trash', '/content/garbage-classification/garbage classification/Garbage classification/cardboard', '/content/garbage-classification/garbage classification/Garbage classification/glass']\n",
            "Total number of classes: 6\n",
            "Total number of images: 2527\n"
          ]
        }
      ]
    },
    {
      "cell_type": "markdown",
      "source": [
        "### **Over-Sampling of the Minority Class**\n",
        "\n",
        "Since the trash class contains significantly fewer (about 4-5 times fewer) images as compared to each of the other 5 class, we will over-sample the trash class to reduce class imbalance in our garbage dataset. Here, we"
      ],
      "metadata": {
        "id": "c1_KcsYeGZgP"
      }
    },
    {
      "cell_type": "code",
      "source": [
        "# non_trash_class_images = [501, 410, 482, 403, 594]\n",
        "# mean_images_non_trash = sum(non_trash_class_images) / len(non_trash_class_images)\n",
        "# print(f'Mean number of images in non-trash classes: {int(mean_images_non_trash)}')\n",
        "# print(f'Number of augmented images to add to trash class: {int(mean_images_non_trash-137)}')"
      ],
      "metadata": {
        "colab": {
          "base_uri": "https://localhost:8080/"
        },
        "id": "8BqDjoG39saj",
        "outputId": "679b1e2f-c945-406a-d3dd-7f230cb3a01f"
      },
      "execution_count": null,
      "outputs": [
        {
          "output_type": "stream",
          "name": "stdout",
          "text": [
            "Mean number of images in non-trash classes: 478\n",
            "Number of augmented images to add to trash class: 341\n"
          ]
        }
      ]
    },
    {
      "cell_type": "code",
      "source": [
        "# trash_class_path = os.path.join(base_path, 'trash')\n",
        "\n",
        "# # Initialize ImageDataGenerator\n",
        "# augmentation_datagen = ImageDataGenerator(\n",
        "#     rescale=1./255,\n",
        "#     shear_range=0.1,\n",
        "#     zoom_range=0.1,\n",
        "#     width_shift_range=0.1,\n",
        "#     height_shift_range=0.1,\n",
        "#     horizontal_flip=True,\n",
        "#     vertical_flip=True\n",
        "# )\n",
        "\n",
        "# # Function to augment images and save them to the directory with unique names\n",
        "# def augment_images(directory, num_new_images):\n",
        "#     num_generated_files = 0\n",
        "#     for _, _, files in os.walk(directory):\n",
        "#         for file in files:\n",
        "#             if num_generated_files >= num_new_images:\n",
        "#                 return\n",
        "#             image_path = os.path.join(directory, file)\n",
        "#             image = load_img(image_path)\n",
        "#             image_array = img_to_array(image)\n",
        "#             image_array = image_array.reshape((1,) + image_array.shape)\n",
        "\n",
        "#             # Generate new images with unique filenames using timestamps\n",
        "#             for batch in augmentation_datagen.flow(\n",
        "#                 image_array, batch_size=1,\n",
        "#                 save_to_dir=directory,\n",
        "#                 save_prefix=f'aug_{datetime.now().strftime(\"%Y%m%d%H%M%S%f\")}_',\n",
        "#                 save_format='jpeg'):\n",
        "#                 num_generated_files += 1\n",
        "#                 if num_generated_files >= num_new_images:\n",
        "#                     break\n",
        "\n",
        "# augment_images(trash_class_path, 341)\n",
        "# new_total_images = sum([len(files) for _, _, files in os.walk(trash_class_path)])\n",
        "# print(f'New total number of images in the trash class: {new_total_images}')"
      ],
      "metadata": {
        "id": "3WfTpJZsJ7gr",
        "colab": {
          "base_uri": "https://localhost:8080/"
        },
        "outputId": "e951c0db-1672-4315-e500-cc8a85a88aa0"
      },
      "execution_count": null,
      "outputs": [
        {
          "output_type": "stream",
          "name": "stdout",
          "text": [
            "New total number of images in the trash class: 473\n"
          ]
        }
      ]
    },
    {
      "cell_type": "code",
      "source": [
        "# def augment_images(directory, num_new_images):\n",
        "#     num_generated_files = 0\n",
        "#     for _, _, files in os.walk(directory):\n",
        "#         for file in files:\n",
        "#             if num_generated_files >= num_new_images:\n",
        "#                 return\n",
        "#             image_path = os.path.join(directory, file)\n",
        "#             image = load_img(image_path)\n",
        "#             image_array = img_to_array(image)\n",
        "#             image_array = image_array.reshape((1,) + image_array.shape)\n",
        "#             for batch in augmentation_datagen.flow(\n",
        "#                 image_array, batch_size=1,\n",
        "#                 save_to_dir=directory,\n",
        "#                 save_prefix=f'aug_{datetime.now().strftime(\"%Y%m%d%H%M%S%f\")}_',\n",
        "#                 save_format='jpeg'):\n",
        "#                 num_generated_files += 1\n",
        "#                 if num_generated_files >= num_new_images:\n",
        "#                     break\n",
        "\n",
        "# # Iterate over each class directory\n",
        "# for class_dir in class_dirs:\n",
        "#     directory = os.path.join(base_path, class_dir)\n",
        "#     current_image_count = sum([len(files) for _, _, files in os.walk(directory)])\n",
        "#     num_new_images = int(current_image_count * 0.20)  # Calculate 20% of the current size\n",
        "\n",
        "#     # Call the augment_images function with the calculated number of new images\n",
        "#     augment_images(directory, num_new_images)"
      ],
      "metadata": {
        "id": "iYOXm0gzrrJ2"
      },
      "execution_count": null,
      "outputs": []
    },
    {
      "cell_type": "code",
      "source": [
        "# class_dirs = [os.path.join(base_path, d) for d in os.listdir(base_path) if os.path.isdir(os.path.join(base_path, d))]\n",
        "\n",
        "# total_images = 0\n",
        "\n",
        "# # Iterate through each class directory and count the images\n",
        "# for class_dir in class_dirs:\n",
        "#     num_images = len([name for name in os.listdir(class_dir) if os.path.isfile(os.path.join(class_dir, name))])\n",
        "#     total_images += num_images\n",
        "#     print(f'{class_dir} contains {num_images} images.')\n",
        "\n",
        "# print(f'The total number of images across all classes is: {total_images}')"
      ],
      "metadata": {
        "colab": {
          "base_uri": "https://localhost:8080/"
        },
        "id": "lFkFiu9p0uKF",
        "outputId": "32902f9b-b59b-4234-9c97-9b47989d1bf4"
      },
      "execution_count": null,
      "outputs": [
        {
          "output_type": "stream",
          "name": "stdout",
          "text": [
            "/content/garbage-classification/garbage classification/Garbage classification/metal contains 410 images.\n",
            "/content/garbage-classification/garbage classification/Garbage classification/paper contains 594 images.\n",
            "/content/garbage-classification/garbage classification/Garbage classification/plastic contains 482 images.\n",
            "/content/garbage-classification/garbage classification/Garbage classification/trash contains 473 images.\n",
            "/content/garbage-classification/garbage classification/Garbage classification/cardboard contains 403 images.\n",
            "/content/garbage-classification/garbage classification/Garbage classification/glass contains 501 images.\n",
            "The total number of images across all classes is: 2863\n"
          ]
        }
      ]
    },
    {
      "cell_type": "code",
      "source": [
        "# data = [(os.path.join(d, img), os.path.basename(d)) for d in class_dirs for img in os.listdir(d)]\n",
        "# print(f'New total number of images: {len(data)}')"
      ],
      "metadata": {
        "colab": {
          "base_uri": "https://localhost:8080/"
        },
        "id": "JNLBEIUVKRhn",
        "outputId": "14fa422d-0419-4dfe-d14b-4044c7c95bc7"
      },
      "execution_count": null,
      "outputs": [
        {
          "output_type": "stream",
          "name": "stdout",
          "text": [
            "New total number of images: 2863\n"
          ]
        }
      ]
    },
    {
      "cell_type": "markdown",
      "source": [
        "# **Checking dimensions of images**"
      ],
      "metadata": {
        "id": "dQkykfr3qlkV"
      }
    },
    {
      "cell_type": "code",
      "source": [
        "image_dimensions = []\n",
        "\n",
        "for item in data:\n",
        "    image_path = item[0]\n",
        "    with Image.open(image_path) as img:\n",
        "        width, height = img.size\n",
        "        image_dimensions.append((width, height))\n",
        "\n",
        "print(f'Image dimensions: {image_dimensions}')\n",
        "\n",
        "if image_dimensions:\n",
        "    print(f'First image dimensions: {image_dimensions[0]}')\n",
        "\n",
        "unique_dimensions = set(image_dimensions)\n",
        "\n",
        "if len(unique_dimensions) == 1:\n",
        "    print(\"All images have the same dimensions.\")\n",
        "else:\n",
        "    print(\"Images have different dimensions.\")"
      ],
      "metadata": {
        "colab": {
          "base_uri": "https://localhost:8080/"
        },
        "id": "nN8iRdBJp-QI",
        "outputId": "39825b0a-1081-4bc8-d745-db8b420a5422"
      },
      "execution_count": null,
      "outputs": [
        {
          "output_type": "stream",
          "name": "stdout",
          "text": [
            "Image dimensions: [(512, 384), (512, 384), (512, 384), (512, 384), (512, 384), (512, 384), (512, 384), (512, 384), (512, 384), (512, 384), (512, 384), (512, 384), (512, 384), (512, 384), (512, 384), (512, 384), (512, 384), (512, 384), (512, 384), (512, 384), (512, 384), (512, 384), (512, 384), (512, 384), (512, 384), (512, 384), (512, 384), (512, 384), (512, 384), (512, 384), (512, 384), (512, 384), (512, 384), (512, 384), (512, 384), (512, 384), (512, 384), (512, 384), (512, 384), (512, 384), (512, 384), (512, 384), (512, 384), (512, 384), (512, 384), (512, 384), (512, 384), (512, 384), (512, 384), (512, 384), (512, 384), (512, 384), (512, 384), (512, 384), (512, 384), (512, 384), (512, 384), (512, 384), (512, 384), (512, 384), (512, 384), (512, 384), (512, 384), (512, 384), (512, 384), (512, 384), (512, 384), (512, 384), (512, 384), (512, 384), (512, 384), (512, 384), (512, 384), (512, 384), (512, 384), (512, 384), (512, 384), (512, 384), (512, 384), (512, 384), (512, 384), (512, 384), (512, 384), (512, 384), (512, 384), (512, 384), (512, 384), (512, 384), (512, 384), (512, 384), (512, 384), (512, 384), (512, 384), (512, 384), (512, 384), (512, 384), (512, 384), (512, 384), (512, 384), (512, 384), (512, 384), (512, 384), (512, 384), (512, 384), (512, 384), (512, 384), (512, 384), (512, 384), (512, 384), (512, 384), (512, 384), (512, 384), (512, 384), (512, 384), (512, 384), (512, 384), (512, 384), (512, 384), (512, 384), (512, 384), (512, 384), (512, 384), (512, 384), (512, 384), (512, 384), (512, 384), (512, 384), (512, 384), (512, 384), (512, 384), (512, 384), (512, 384), (512, 384), (512, 384), (512, 384), (512, 384), (512, 384), (512, 384), (512, 384), (512, 384), (512, 384), (512, 384), (512, 384), (512, 384), (512, 384), (512, 384), (512, 384), (512, 384), (512, 384), (512, 384), (512, 384), (512, 384), (512, 384), (512, 384), (512, 384), (512, 384), (512, 384), (512, 384), (512, 384), (512, 384), (512, 384), (512, 384), (512, 384), (512, 384), (512, 384), (512, 384), (512, 384), (512, 384), (512, 384), (512, 384), (512, 384), (512, 384), (512, 384), (512, 384), (512, 384), (512, 384), (512, 384), (512, 384), (512, 384), (512, 384), (512, 384), (512, 384), (512, 384), (512, 384), (512, 384), (512, 384), (512, 384), (512, 384), (512, 384), (512, 384), (512, 384), (512, 384), (512, 384), (512, 384), (512, 384), (512, 384), (512, 384), (512, 384), (512, 384), (512, 384), (512, 384), (512, 384), (512, 384), (512, 384), (512, 384), (512, 384), (512, 384), (512, 384), (512, 384), (512, 384), (512, 384), (512, 384), (512, 384), (512, 384), (512, 384), (512, 384), (512, 384), (512, 384), (512, 384), (512, 384), (512, 384), (512, 384), (512, 384), (512, 384), (512, 384), (512, 384), (512, 384), (512, 384), (512, 384), (512, 384), (512, 384), (512, 384), (512, 384), (512, 384), (512, 384), (512, 384), (512, 384), (512, 384), (512, 384), (512, 384), (512, 384), (512, 384), (512, 384), (512, 384), (512, 384), (512, 384), (512, 384), (512, 384), (512, 384), (512, 384), (512, 384), (512, 384), (512, 384), (512, 384), (512, 384), (512, 384), (512, 384), (512, 384), (512, 384), (512, 384), (512, 384), (512, 384), (512, 384), (512, 384), (512, 384), (512, 384), (512, 384), (512, 384), (512, 384), (512, 384), (512, 384), (512, 384), (512, 384), (512, 384), (512, 384), (512, 384), (512, 384), (512, 384), (512, 384), (512, 384), (512, 384), (512, 384), (512, 384), (512, 384), (512, 384), (512, 384), (512, 384), (512, 384), (512, 384), (512, 384), (512, 384), (512, 384), (512, 384), (512, 384), (512, 384), (512, 384), (512, 384), (512, 384), (512, 384), (512, 384), (512, 384), (512, 384), (512, 384), (512, 384), (512, 384), (512, 384), (512, 384), (512, 384), (512, 384), (512, 384), (512, 384), (512, 384), (512, 384), (512, 384), (512, 384), (512, 384), (512, 384), (512, 384), (512, 384), (512, 384), (512, 384), (512, 384), (512, 384), (512, 384), (512, 384), (512, 384), (512, 384), (512, 384), (512, 384), (512, 384), (512, 384), (512, 384), (512, 384), (512, 384), (512, 384), (512, 384), (512, 384), (512, 384), (512, 384), (512, 384), (512, 384), (512, 384), (512, 384), (512, 384), (512, 384), (512, 384), (512, 384), (512, 384), (512, 384), (512, 384), (512, 384), (512, 384), (512, 384), (512, 384), (512, 384), (512, 384), (512, 384), (512, 384), (512, 384), (512, 384), (512, 384), (512, 384), (512, 384), (512, 384), (512, 384), (512, 384), (512, 384), (512, 384), (512, 384), (512, 384), (512, 384), (512, 384), (512, 384), (512, 384), (512, 384), (512, 384), (512, 384), (512, 384), (512, 384), (512, 384), (512, 384), (512, 384), (512, 384), (512, 384), (512, 384), (512, 384), (512, 384), (512, 384), (512, 384), (512, 384), (512, 384), (512, 384), (512, 384), (512, 384), (512, 384), (512, 384), (512, 384), (512, 384), (512, 384), (512, 384), (512, 384), (512, 384), (512, 384), (512, 384), (512, 384), (512, 384), (512, 384), (512, 384), (512, 384), (512, 384), (512, 384), (512, 384), (512, 384), (512, 384), (512, 384), (512, 384), (512, 384), (512, 384), (512, 384), (512, 384), (512, 384), (512, 384), (512, 384), (512, 384), (512, 384), (512, 384), (512, 384), (512, 384), (512, 384), (512, 384), (512, 384), (512, 384), (512, 384), (512, 384), (512, 384), (512, 384), (512, 384), (512, 384), (512, 384), (512, 384), (512, 384), (512, 384), (512, 384), (512, 384), (512, 384), (512, 384), (512, 384), (512, 384), (512, 384), (512, 384), (512, 384), (512, 384), (512, 384), (512, 384), (512, 384), (512, 384), (512, 384), (512, 384), (512, 384), (512, 384), (512, 384), (512, 384), (512, 384), (512, 384), (512, 384), (512, 384), (512, 384), (512, 384), (512, 384), (512, 384), (512, 384), (512, 384), (512, 384), (512, 384), (512, 384), (512, 384), (512, 384), (512, 384), (512, 384), (512, 384), (512, 384), (512, 384), (512, 384), (512, 384), (512, 384), (512, 384), (512, 384), (512, 384), (512, 384), (512, 384), (512, 384), (512, 384), (512, 384), (512, 384), (512, 384), (512, 384), (512, 384), (512, 384), (512, 384), (512, 384), (512, 384), (512, 384), (512, 384), (512, 384), (512, 384), (512, 384), (512, 384), (512, 384), (512, 384), (512, 384), (512, 384), (512, 384), (512, 384), (512, 384), (512, 384), (512, 384), (512, 384), (512, 384), (512, 384), (512, 384), (512, 384), (512, 384), (512, 384), (512, 384), (512, 384), (512, 384), (512, 384), (512, 384), (512, 384), (512, 384), (512, 384), (512, 384), (512, 384), (512, 384), (512, 384), (512, 384), (512, 384), (512, 384), (512, 384), (512, 384), (512, 384), (512, 384), (512, 384), (512, 384), (512, 384), (512, 384), (512, 384), (512, 384), (512, 384), (512, 384), (512, 384), (512, 384), (512, 384), (512, 384), (512, 384), (512, 384), (512, 384), (512, 384), (512, 384), (512, 384), (512, 384), (512, 384), (512, 384), (512, 384), (512, 384), (512, 384), (512, 384), (512, 384), (512, 384), (512, 384), (512, 384), (512, 384), (512, 384), (512, 384), (512, 384), (512, 384), (512, 384), (512, 384), (512, 384), (512, 384), (512, 384), (512, 384), (512, 384), (512, 384), (512, 384), (512, 384), (512, 384), (512, 384), (512, 384), (512, 384), (512, 384), (512, 384), (512, 384), (512, 384), (512, 384), (512, 384), (512, 384), (512, 384), (512, 384), (512, 384), (512, 384), (512, 384), (512, 384), (512, 384), (512, 384), (512, 384), (512, 384), (512, 384), (512, 384), (512, 384), (512, 384), (512, 384), (512, 384), (512, 384), (512, 384), (512, 384), (512, 384), (512, 384), (512, 384), (512, 384), (512, 384), (512, 384), (512, 384), (512, 384), (512, 384), (512, 384), (512, 384), (512, 384), (512, 384), (512, 384), (512, 384), (512, 384), (512, 384), (512, 384), (512, 384), (512, 384), (512, 384), (512, 384), (512, 384), (512, 384), (512, 384), (512, 384), (512, 384), (512, 384), (512, 384), (512, 384), (512, 384), (512, 384), (512, 384), (512, 384), (512, 384), (512, 384), (512, 384), (512, 384), (512, 384), (512, 384), (512, 384), (512, 384), (512, 384), (512, 384), (512, 384), (512, 384), (512, 384), (512, 384), (512, 384), (512, 384), (512, 384), (512, 384), (512, 384), (512, 384), (512, 384), (512, 384), (512, 384), (512, 384), (512, 384), (512, 384), (512, 384), (512, 384), (512, 384), (512, 384), (512, 384), (512, 384), (512, 384), (512, 384), (512, 384), (512, 384), (512, 384), (512, 384), (512, 384), (512, 384), (512, 384), (512, 384), (512, 384), (512, 384), (512, 384), (512, 384), (512, 384), (512, 384), (512, 384), (512, 384), (512, 384), (512, 384), (512, 384), (512, 384), (512, 384), (512, 384), (512, 384), (512, 384), (512, 384), (512, 384), (512, 384), (512, 384), (512, 384), (512, 384), (512, 384), (512, 384), (512, 384), (512, 384), (512, 384), (512, 384), (512, 384), (512, 384), (512, 384), (512, 384), (512, 384), (512, 384), (512, 384), (512, 384), (512, 384), (512, 384), (512, 384), (512, 384), (512, 384), (512, 384), (512, 384), (512, 384), (512, 384), (512, 384), (512, 384), (512, 384), (512, 384), (512, 384), (512, 384), (512, 384), (512, 384), (512, 384), (512, 384), (512, 384), (512, 384), (512, 384), (512, 384), (512, 384), (512, 384), (512, 384), (512, 384), (512, 384), (512, 384), (512, 384), (512, 384), (512, 384), (512, 384), (512, 384), (512, 384), (512, 384), (512, 384), (512, 384), (512, 384), (512, 384), (512, 384), (512, 384), (512, 384), (512, 384), (512, 384), (512, 384), (512, 384), (512, 384), (512, 384), (512, 384), (512, 384), (512, 384), (512, 384), (512, 384), (512, 384), (512, 384), (512, 384), (512, 384), (512, 384), (512, 384), (512, 384), (512, 384), (512, 384), (512, 384), (512, 384), (512, 384), (512, 384), (512, 384), (512, 384), (512, 384), (512, 384), (512, 384), (512, 384), (512, 384), (512, 384), (512, 384), (512, 384), (512, 384), (512, 384), (512, 384), (512, 384), (512, 384), (512, 384), (512, 384), (512, 384), (512, 384), (512, 384), (512, 384), (512, 384), (512, 384), (512, 384), (512, 384), (512, 384), (512, 384), (512, 384), (512, 384), (512, 384), (512, 384), (512, 384), (512, 384), (512, 384), (512, 384), (512, 384), (512, 384), (512, 384), (512, 384), (512, 384), (512, 384), (512, 384), (512, 384), (512, 384), (512, 384), (512, 384), (512, 384), (512, 384), (512, 384), (512, 384), (512, 384), (512, 384), (512, 384), (512, 384), (512, 384), (512, 384), (512, 384), (512, 384), (512, 384), (512, 384), (512, 384), (512, 384), (512, 384), (512, 384), (512, 384), (512, 384), (512, 384), (512, 384), (512, 384), (512, 384), (512, 384), (512, 384), (512, 384), (512, 384), (512, 384), (512, 384), (512, 384), (512, 384), (512, 384), (512, 384), (512, 384), (512, 384), (512, 384), (512, 384), (512, 384), (512, 384), (512, 384), (512, 384), (512, 384), (512, 384), (512, 384), (512, 384), (512, 384), (512, 384), (512, 384), (512, 384), (512, 384), (512, 384), (512, 384), (512, 384), (512, 384), (512, 384), (512, 384), (512, 384), (512, 384), (512, 384), (512, 384), (512, 384), (512, 384), (512, 384), (512, 384), (512, 384), (512, 384), (512, 384), (512, 384), (512, 384), (512, 384), (512, 384), (512, 384), (512, 384), (512, 384), (512, 384), (512, 384), (512, 384), (512, 384), (512, 384), (512, 384), (512, 384), (512, 384), (512, 384), (512, 384), (512, 384), (512, 384), (512, 384), (512, 384), (512, 384), (512, 384), (512, 384), (512, 384), (512, 384), (512, 384), (512, 384), (512, 384), (512, 384), (512, 384), (512, 384), (512, 384), (512, 384), (512, 384), (512, 384), (512, 384), (512, 384), (512, 384), (512, 384), (512, 384), (512, 384), (512, 384), (512, 384), (512, 384), (512, 384), (512, 384), (512, 384), (512, 384), (512, 384), (512, 384), (512, 384), (512, 384), (512, 384), (512, 384), (512, 384), (512, 384), (512, 384), (512, 384), (512, 384), (512, 384), (512, 384), (512, 384), (512, 384), (512, 384), (512, 384), (512, 384), (512, 384), (512, 384), (512, 384), (512, 384), (512, 384), (512, 384), (512, 384), (512, 384), (512, 384), (512, 384), (512, 384), (512, 384), (512, 384), (512, 384), (512, 384), (512, 384), (512, 384), (512, 384), (512, 384), (512, 384), (512, 384), (512, 384), (512, 384), (512, 384), (512, 384), (512, 384), (512, 384), (512, 384), (512, 384), (512, 384), (512, 384), (512, 384), (512, 384), (512, 384), (512, 384), (512, 384), (512, 384), (512, 384), (512, 384), (512, 384), (512, 384), (512, 384), (512, 384), (512, 384), (512, 384), (512, 384), (512, 384), (512, 384), (512, 384), (512, 384), (512, 384), (512, 384), (512, 384), (512, 384), (512, 384), (512, 384), (512, 384), (512, 384), (512, 384), (512, 384), (512, 384), (512, 384), (512, 384), (512, 384), (512, 384), (512, 384), (512, 384), (512, 384), (512, 384), (512, 384), (512, 384), (512, 384), (512, 384), (512, 384), (512, 384), (512, 384), (512, 384), (512, 384), (512, 384), (512, 384), (512, 384), (512, 384), (512, 384), (512, 384), (512, 384), (512, 384), (512, 384), (512, 384), (512, 384), (512, 384), (512, 384), (512, 384), (512, 384), (512, 384), (512, 384), (512, 384), (512, 384), (512, 384), (512, 384), (512, 384), (512, 384), (512, 384), (512, 384), (512, 384), (512, 384), (512, 384), (512, 384), (512, 384), (512, 384), (512, 384), (512, 384), (512, 384), (512, 384), (512, 384), (512, 384), (512, 384), (512, 384), (512, 384), (512, 384), (512, 384), (512, 384), (512, 384), (512, 384), (512, 384), (512, 384), (512, 384), (512, 384), (512, 384), (512, 384), (512, 384), (512, 384), (512, 384), (512, 384), (512, 384), (512, 384), (512, 384), (512, 384), (512, 384), (512, 384), (512, 384), (512, 384), (512, 384), (512, 384), (512, 384), (512, 384), (512, 384), (512, 384), (512, 384), (512, 384), (512, 384), (512, 384), (512, 384), (512, 384), (512, 384), (512, 384), (512, 384), (512, 384), (512, 384), (512, 384), (512, 384), (512, 384), (512, 384), (512, 384), (512, 384), (512, 384), (512, 384), (512, 384), (512, 384), (512, 384), (512, 384), (512, 384), (512, 384), (512, 384), (512, 384), (512, 384), (512, 384), (512, 384), (512, 384), (512, 384), (512, 384), (512, 384), (512, 384), (512, 384), (512, 384), (512, 384), (512, 384), (512, 384), (512, 384), (512, 384), (512, 384), (512, 384), (512, 384), (512, 384), (512, 384), (512, 384), (512, 384), (512, 384), (512, 384), (512, 384), (512, 384), (512, 384), (512, 384), (512, 384), (512, 384), (512, 384), (512, 384), (512, 384), (512, 384), (512, 384), (512, 384), (512, 384), (512, 384), (512, 384), (512, 384), (512, 384), (512, 384), (512, 384), (512, 384), (512, 384), (512, 384), (512, 384), (512, 384), (512, 384), (512, 384), (512, 384), (512, 384), (512, 384), (512, 384), (512, 384), (512, 384), (512, 384), (512, 384), (512, 384), (512, 384), (512, 384), (512, 384), (512, 384), (512, 384), (512, 384), (512, 384), (512, 384), (512, 384), (512, 384), (512, 384), (512, 384), (512, 384), (512, 384), (512, 384), (512, 384), (512, 384), (512, 384), (512, 384), (512, 384), (512, 384), (512, 384), (512, 384), (512, 384), (512, 384), (512, 384), (512, 384), (512, 384), (512, 384), (512, 384), (512, 384), (512, 384), (512, 384), (512, 384), (512, 384), (512, 384), (512, 384), (512, 384), (512, 384), (512, 384), (512, 384), (512, 384), (512, 384), (512, 384), (512, 384), (512, 384), (512, 384), (512, 384), (512, 384), (512, 384), (512, 384), (512, 384), (512, 384), (512, 384), (512, 384), (512, 384), (512, 384), (512, 384), (512, 384), (512, 384), (512, 384), (512, 384), (512, 384), (512, 384), (512, 384), (512, 384), (512, 384), (512, 384), (512, 384), (512, 384), (512, 384), (512, 384), (512, 384), (512, 384), (512, 384), (512, 384), (512, 384), (512, 384), (512, 384), (512, 384), (512, 384), (512, 384), (512, 384), (512, 384), (512, 384), (512, 384), (512, 384), (512, 384), (512, 384), (512, 384), (512, 384), (512, 384), (512, 384), (512, 384), (512, 384), (512, 384), (512, 384), (512, 384), (512, 384), (512, 384), (512, 384), (512, 384), (512, 384), (512, 384), (512, 384), (512, 384), (512, 384), (512, 384), (512, 384), (512, 384), (512, 384), (512, 384), (512, 384), (512, 384), (512, 384), (512, 384), (512, 384), (512, 384), (512, 384), (512, 384), (512, 384), (512, 384), (512, 384), (512, 384), (512, 384), (512, 384), (512, 384), (512, 384), (512, 384), (512, 384), (512, 384), (512, 384), (512, 384), (512, 384), (512, 384), (512, 384), (512, 384), (512, 384), (512, 384), (512, 384), (512, 384), (512, 384), (512, 384), (512, 384), (512, 384), (512, 384), (512, 384), (512, 384), (512, 384), (512, 384), (512, 384), (512, 384), (512, 384), (512, 384), (512, 384), (512, 384), (512, 384), (512, 384), (512, 384), (512, 384), (512, 384), (512, 384), (512, 384), (512, 384), (512, 384), (512, 384), (512, 384), (512, 384), (512, 384), (512, 384), (512, 384), (512, 384), (512, 384), (512, 384), (512, 384), (512, 384), (512, 384), (512, 384), (512, 384), (512, 384), (512, 384), (512, 384), (512, 384), (512, 384), (512, 384), (512, 384), (512, 384), (512, 384), (512, 384), (512, 384), (512, 384), (512, 384), (512, 384), (512, 384), (512, 384), (512, 384), (512, 384), (512, 384), (512, 384), (512, 384), (512, 384), (512, 384), (512, 384), (512, 384), (512, 384), (512, 384), (512, 384), (512, 384), (512, 384), (512, 384), (512, 384), (512, 384), (512, 384), (512, 384), (512, 384), (512, 384), (512, 384), (512, 384), (512, 384), (512, 384), (512, 384), (512, 384), (512, 384), (512, 384), (512, 384), (512, 384), (512, 384), (512, 384), (512, 384), (512, 384), (512, 384), (512, 384), (512, 384), (512, 384), (512, 384), (512, 384), (512, 384), (512, 384), (512, 384), (512, 384), (512, 384), (512, 384), (512, 384), (512, 384), (512, 384), (512, 384), (512, 384), (512, 384), (512, 384), (512, 384), (512, 384), (512, 384), (512, 384), (512, 384), (512, 384), (512, 384), (512, 384), (512, 384), (512, 384), (512, 384), (512, 384), (512, 384), (512, 384), (512, 384), (512, 384), (512, 384), (512, 384), (512, 384), (512, 384), (512, 384), (512, 384), (512, 384), (512, 384), (512, 384), (512, 384), (512, 384), (512, 384), (512, 384), (512, 384), (512, 384), (512, 384), (512, 384), (512, 384), (512, 384), (512, 384), (512, 384), (512, 384), (512, 384), (512, 384), (512, 384), (512, 384), (512, 384), (512, 384), (512, 384), (512, 384), (512, 384), (512, 384), (512, 384), (512, 384), (512, 384), (512, 384), (512, 384), (512, 384), (512, 384), (512, 384), (512, 384), (512, 384), (512, 384), (512, 384), (512, 384), (512, 384), (512, 384), (512, 384), (512, 384), (512, 384), (512, 384), (512, 384), (512, 384), (512, 384), (512, 384), (512, 384), (512, 384), (512, 384), (512, 384), (512, 384), (512, 384), (512, 384), (512, 384), (512, 384), (512, 384), (512, 384), (512, 384), (512, 384), (512, 384), (512, 384), (512, 384), (512, 384), (512, 384), (512, 384), (512, 384), (512, 384), (512, 384), (512, 384), (512, 384), (512, 384), (512, 384), (512, 384), (512, 384), (512, 384), (512, 384), (512, 384), (512, 384), (512, 384), (512, 384), (512, 384), (512, 384), (512, 384), (512, 384), (512, 384), (512, 384), (512, 384), (512, 384), (512, 384), (512, 384), (512, 384), (512, 384), (512, 384), (512, 384), (512, 384), (512, 384), (512, 384), (512, 384), (512, 384), (512, 384), (512, 384), (512, 384), (512, 384), (512, 384), (512, 384), (512, 384), (512, 384), (512, 384), (512, 384), (512, 384), (512, 384), (512, 384), (512, 384), (512, 384), (512, 384), (512, 384), (512, 384), (512, 384), (512, 384), (512, 384), (512, 384), (512, 384), (512, 384), (512, 384), (512, 384), (512, 384), (512, 384), (512, 384), (512, 384), (512, 384), (512, 384), (512, 384), (512, 384), (512, 384), (512, 384), (512, 384), (512, 384), (512, 384), (512, 384), (512, 384), (512, 384), (512, 384), (512, 384), (512, 384), (512, 384), (512, 384), (512, 384), (512, 384), (512, 384), (512, 384), (512, 384), (512, 384), (512, 384), (512, 384), (512, 384), (512, 384), (512, 384), (512, 384), (512, 384), (512, 384), (512, 384), (512, 384), (512, 384), (512, 384), (512, 384), (512, 384), (512, 384), (512, 384), (512, 384), (512, 384), (512, 384), (512, 384), (512, 384), (512, 384), (512, 384), (512, 384), (512, 384), (512, 384), (512, 384), (512, 384), (512, 384), (512, 384), (512, 384), (512, 384), (512, 384), (512, 384), (512, 384), (512, 384), (512, 384), (512, 384), (512, 384), (512, 384), (512, 384), (512, 384), (512, 384), (512, 384), (512, 384), (512, 384), (512, 384), (512, 384), (512, 384), (512, 384), (512, 384), (512, 384), (512, 384), (512, 384), (512, 384), (512, 384), (512, 384), (512, 384), (512, 384), (512, 384), (512, 384), (512, 384), (512, 384), (512, 384), (512, 384), (512, 384), (512, 384), (512, 384), (512, 384), (512, 384), (512, 384), (512, 384), (512, 384), (512, 384), (512, 384), (512, 384), (512, 384), (512, 384), (512, 384), (512, 384), (512, 384), (512, 384), (512, 384), (512, 384), (512, 384), (512, 384), (512, 384), (512, 384), (512, 384), (512, 384), (512, 384), (512, 384), (512, 384), (512, 384), (512, 384), (512, 384), (512, 384), (512, 384), (512, 384), (512, 384), (512, 384), (512, 384), (512, 384), (512, 384), (512, 384), (512, 384), (512, 384), (512, 384), (512, 384), (512, 384), (512, 384), (512, 384), (512, 384), (512, 384), (512, 384), (512, 384), (512, 384), (512, 384), (512, 384), (512, 384), (512, 384), (512, 384), (512, 384), (512, 384), (512, 384), (512, 384), (512, 384), (512, 384), (512, 384), (512, 384), (512, 384), (512, 384), (512, 384), (512, 384), (512, 384), (512, 384), (512, 384), (512, 384), (512, 384), (512, 384), (512, 384), (512, 384), (512, 384), (512, 384), (512, 384), (512, 384), (512, 384), (512, 384), (512, 384), (512, 384), (512, 384), (512, 384), (512, 384), (512, 384), (512, 384), (512, 384), (512, 384), (512, 384), (512, 384), (512, 384), (512, 384), (512, 384), (512, 384), (512, 384), (512, 384), (512, 384), (512, 384), (512, 384), (512, 384), (512, 384), (512, 384), (512, 384), (512, 384), (512, 384), (512, 384), (512, 384), (512, 384), (512, 384), (512, 384), (512, 384), (512, 384), (512, 384), (512, 384), (512, 384), (512, 384), (512, 384), (512, 384), (512, 384), (512, 384), (512, 384), (512, 384), (512, 384), (512, 384), (512, 384), (512, 384), (512, 384), (512, 384), (512, 384), (512, 384), (512, 384), (512, 384), (512, 384), (512, 384), (512, 384), (512, 384), (512, 384), (512, 384), (512, 384), (512, 384), (512, 384), (512, 384), (512, 384), (512, 384), (512, 384), (512, 384), (512, 384), (512, 384), (512, 384), (512, 384), (512, 384), (512, 384), (512, 384), (512, 384), (512, 384), (512, 384), (512, 384), (512, 384), (512, 384), (512, 384), (512, 384), (512, 384), (512, 384), (512, 384), (512, 384), (512, 384), (512, 384), (512, 384), (512, 384), (512, 384), (512, 384), (512, 384), (512, 384), (512, 384), (512, 384), (512, 384), (512, 384), (512, 384), (512, 384), (512, 384), (512, 384), (512, 384), (512, 384), (512, 384), (512, 384), (512, 384), (512, 384), (512, 384), (512, 384), (512, 384), (512, 384), (512, 384), (512, 384), (512, 384), (512, 384), (512, 384), (512, 384), (512, 384), (512, 384), (512, 384), (512, 384), (512, 384), (512, 384), (512, 384), (512, 384), (512, 384), (512, 384), (512, 384), (512, 384), (512, 384), (512, 384), (512, 384), (512, 384), (512, 384), (512, 384), (512, 384), (512, 384), (512, 384), (512, 384), (512, 384), (512, 384), (512, 384), (512, 384), (512, 384), (512, 384), (512, 384), (512, 384), (512, 384), (512, 384), (512, 384), (512, 384), (512, 384), (512, 384), (512, 384), (512, 384), (512, 384), (512, 384), (512, 384), (512, 384), (512, 384), (512, 384), (512, 384), (512, 384), (512, 384), (512, 384), (512, 384), (512, 384), (512, 384), (512, 384), (512, 384), (512, 384), (512, 384), (512, 384), (512, 384), (512, 384), (512, 384), (512, 384), (512, 384), (512, 384), (512, 384), (512, 384), (512, 384), (512, 384), (512, 384), (512, 384), (512, 384), (512, 384), (512, 384), (512, 384), (512, 384), (512, 384), (512, 384), (512, 384), (512, 384), (512, 384), (512, 384), (512, 384), (512, 384), (512, 384), (512, 384), (512, 384), (512, 384), (512, 384), (512, 384), (512, 384), (512, 384), (512, 384), (512, 384), (512, 384), (512, 384), (512, 384), (512, 384), (512, 384), (512, 384), (512, 384), (512, 384), (512, 384), (512, 384), (512, 384), (512, 384), (512, 384), (512, 384), (512, 384), (512, 384), (512, 384), (512, 384), (512, 384), (512, 384), (512, 384), (512, 384), (512, 384), (512, 384), (512, 384), (512, 384), (512, 384), (512, 384), (512, 384), (512, 384), (512, 384), (512, 384), (512, 384), (512, 384), (512, 384), (512, 384), (512, 384), (512, 384), (512, 384), (512, 384), (512, 384), (512, 384), (512, 384), (512, 384), (512, 384), (512, 384), (512, 384), (512, 384), (512, 384), (512, 384), (512, 384), (512, 384), (512, 384), (512, 384), (512, 384), (512, 384), (512, 384), (512, 384), (512, 384), (512, 384), (512, 384), (512, 384), (512, 384), (512, 384), (512, 384), (512, 384), (512, 384), (512, 384), (512, 384), (512, 384), (512, 384), (512, 384), (512, 384), (512, 384), (512, 384), (512, 384), (512, 384), (512, 384), (512, 384), (512, 384), (512, 384), (512, 384), (512, 384), (512, 384), (512, 384), (512, 384), (512, 384), (512, 384), (512, 384), (512, 384), (512, 384), (512, 384), (512, 384), (512, 384), (512, 384), (512, 384), (512, 384), (512, 384), (512, 384), (512, 384), (512, 384), (512, 384), (512, 384), (512, 384), (512, 384), (512, 384), (512, 384), (512, 384), (512, 384), (512, 384), (512, 384), (512, 384), (512, 384), (512, 384), (512, 384), (512, 384), (512, 384), (512, 384), (512, 384), (512, 384), (512, 384), (512, 384), (512, 384), (512, 384), (512, 384), (512, 384), (512, 384), (512, 384), (512, 384), (512, 384), (512, 384), (512, 384), (512, 384), (512, 384), (512, 384), (512, 384), (512, 384), (512, 384), (512, 384), (512, 384), (512, 384), (512, 384), (512, 384), (512, 384), (512, 384), (512, 384), (512, 384), (512, 384), (512, 384), (512, 384), (512, 384), (512, 384), (512, 384), (512, 384), (512, 384), (512, 384), (512, 384), (512, 384), (512, 384), (512, 384), (512, 384), (512, 384), (512, 384), (512, 384), (512, 384), (512, 384), (512, 384), (512, 384), (512, 384), (512, 384), (512, 384), (512, 384), (512, 384), (512, 384), (512, 384), (512, 384), (512, 384), (512, 384), (512, 384), (512, 384), (512, 384), (512, 384), (512, 384), (512, 384), (512, 384), (512, 384), (512, 384), (512, 384), (512, 384), (512, 384), (512, 384), (512, 384), (512, 384), (512, 384), (512, 384), (512, 384), (512, 384), (512, 384), (512, 384), (512, 384), (512, 384), (512, 384), (512, 384), (512, 384), (512, 384), (512, 384), (512, 384), (512, 384), (512, 384), (512, 384), (512, 384), (512, 384), (512, 384), (512, 384), (512, 384), (512, 384), (512, 384), (512, 384), (512, 384), (512, 384), (512, 384), (512, 384), (512, 384), (512, 384), (512, 384), (512, 384), (512, 384), (512, 384), (512, 384), (512, 384), (512, 384), (512, 384), (512, 384), (512, 384), (512, 384), (512, 384), (512, 384), (512, 384), (512, 384), (512, 384), (512, 384), (512, 384), (512, 384), (512, 384), (512, 384), (512, 384), (512, 384), (512, 384), (512, 384), (512, 384), (512, 384), (512, 384), (512, 384), (512, 384), (512, 384), (512, 384), (512, 384), (512, 384), (512, 384), (512, 384), (512, 384), (512, 384), (512, 384), (512, 384), (512, 384), (512, 384), (512, 384), (512, 384), (512, 384), (512, 384), (512, 384), (512, 384), (512, 384), (512, 384), (512, 384), (512, 384), (512, 384), (512, 384), (512, 384), (512, 384), (512, 384), (512, 384), (512, 384), (512, 384), (512, 384), (512, 384), (512, 384), (512, 384), (512, 384), (512, 384), (512, 384), (512, 384), (512, 384), (512, 384), (512, 384), (512, 384), (512, 384), (512, 384), (512, 384), (512, 384), (512, 384), (512, 384), (512, 384), (512, 384), (512, 384), (512, 384), (512, 384), (512, 384), (512, 384), (512, 384), (512, 384), (512, 384), (512, 384), (512, 384), (512, 384), (512, 384), (512, 384), (512, 384), (512, 384), (512, 384), (512, 384), (512, 384), (512, 384), (512, 384), (512, 384), (512, 384), (512, 384), (512, 384), (512, 384), (512, 384), (512, 384), (512, 384), (512, 384), (512, 384), (512, 384), (512, 384), (512, 384), (512, 384), (512, 384), (512, 384), (512, 384), (512, 384), (512, 384), (512, 384), (512, 384), (512, 384), (512, 384), (512, 384), (512, 384), (512, 384), (512, 384), (512, 384), (512, 384), (512, 384), (512, 384), (512, 384), (512, 384), (512, 384), (512, 384), (512, 384), (512, 384), (512, 384), (512, 384), (512, 384), (512, 384), (512, 384), (512, 384), (512, 384), (512, 384), (512, 384), (512, 384), (512, 384), (512, 384), (512, 384), (512, 384), (512, 384), (512, 384), (512, 384), (512, 384), (512, 384), (512, 384), (512, 384), (512, 384), (512, 384), (512, 384), (512, 384), (512, 384), (512, 384), (512, 384), (512, 384), (512, 384), (512, 384), (512, 384), (512, 384), (512, 384), (512, 384), (512, 384), (512, 384), (512, 384), (512, 384), (512, 384), (512, 384), (512, 384), (512, 384), (512, 384), (512, 384), (512, 384), (512, 384), (512, 384), (512, 384), (512, 384), (512, 384), (512, 384), (512, 384), (512, 384), (512, 384), (512, 384), (512, 384), (512, 384), (512, 384), (512, 384), (512, 384), (512, 384), (512, 384), (512, 384), (512, 384), (512, 384), (512, 384), (512, 384), (512, 384), (512, 384), (512, 384), (512, 384), (512, 384), (512, 384), (512, 384), (512, 384), (512, 384), (512, 384), (512, 384), (512, 384), (512, 384), (512, 384), (512, 384), (512, 384), (512, 384), (512, 384), (512, 384), (512, 384), (512, 384), (512, 384), (512, 384), (512, 384), (512, 384), (512, 384), (512, 384), (512, 384), (512, 384), (512, 384), (512, 384), (512, 384), (512, 384), (512, 384), (512, 384), (512, 384), (512, 384), (512, 384), (512, 384), (512, 384), (512, 384), (512, 384), (512, 384), (512, 384), (512, 384), (512, 384), (512, 384), (512, 384), (512, 384), (512, 384), (512, 384), (512, 384), (512, 384), (512, 384), (512, 384), (512, 384), (512, 384), (512, 384), (512, 384), (512, 384), (512, 384), (512, 384), (512, 384), (512, 384), (512, 384), (512, 384), (512, 384), (512, 384), (512, 384), (512, 384), (512, 384), (512, 384), (512, 384), (512, 384), (512, 384), (512, 384), (512, 384), (512, 384), (512, 384), (512, 384), (512, 384), (512, 384), (512, 384), (512, 384), (512, 384), (512, 384), (512, 384), (512, 384), (512, 384), (512, 384), (512, 384), (512, 384), (512, 384), (512, 384), (512, 384), (512, 384), (512, 384), (512, 384), (512, 384), (512, 384), (512, 384), (512, 384), (512, 384), (512, 384), (512, 384), (512, 384), (512, 384), (512, 384), (512, 384), (512, 384), (512, 384), (512, 384), (512, 384), (512, 384), (512, 384), (512, 384), (512, 384), (512, 384), (512, 384), (512, 384), (512, 384), (512, 384), (512, 384), (512, 384), (512, 384), (512, 384), (512, 384), (512, 384), (512, 384), (512, 384), (512, 384), (512, 384), (512, 384), (512, 384), (512, 384), (512, 384), (512, 384), (512, 384), (512, 384), (512, 384), (512, 384), (512, 384), (512, 384), (512, 384), (512, 384), (512, 384), (512, 384), (512, 384), (512, 384), (512, 384), (512, 384), (512, 384), (512, 384), (512, 384), (512, 384), (512, 384), (512, 384), (512, 384), (512, 384), (512, 384), (512, 384), (512, 384), (512, 384), (512, 384), (512, 384), (512, 384), (512, 384), (512, 384), (512, 384), (512, 384), (512, 384), (512, 384), (512, 384), (512, 384), (512, 384), (512, 384), (512, 384), (512, 384), (512, 384), (512, 384), (512, 384), (512, 384), (512, 384), (512, 384), (512, 384), (512, 384), (512, 384), (512, 384), (512, 384), (512, 384), (512, 384), (512, 384), (512, 384), (512, 384), (512, 384), (512, 384), (512, 384), (512, 384), (512, 384), (512, 384), (512, 384), (512, 384), (512, 384), (512, 384), (512, 384), (512, 384), (512, 384), (512, 384), (512, 384), (512, 384), (512, 384), (512, 384), (512, 384), (512, 384), (512, 384), (512, 384), (512, 384), (512, 384), (512, 384), (512, 384), (512, 384), (512, 384), (512, 384), (512, 384), (512, 384), (512, 384), (512, 384), (512, 384), (512, 384), (512, 384), (512, 384), (512, 384), (512, 384), (512, 384), (512, 384), (512, 384), (512, 384), (512, 384), (512, 384), (512, 384), (512, 384), (512, 384), (512, 384), (512, 384), (512, 384), (512, 384), (512, 384), (512, 384), (512, 384), (512, 384), (512, 384), (512, 384), (512, 384), (512, 384), (512, 384), (512, 384), (512, 384), (512, 384), (512, 384), (512, 384), (512, 384), (512, 384), (512, 384), (512, 384), (512, 384), (512, 384), (512, 384), (512, 384), (512, 384), (512, 384), (512, 384), (512, 384), (512, 384), (512, 384), (512, 384), (512, 384), (512, 384), (512, 384), (512, 384), (512, 384), (512, 384), (512, 384), (512, 384), (512, 384), (512, 384), (512, 384), (512, 384), (512, 384), (512, 384), (512, 384), (512, 384), (512, 384), (512, 384), (512, 384), (512, 384), (512, 384), (512, 384), (512, 384), (512, 384), (512, 384), (512, 384), (512, 384), (512, 384), (512, 384), (512, 384), (512, 384), (512, 384), (512, 384), (512, 384), (512, 384), (512, 384), (512, 384), (512, 384), (512, 384), (512, 384), (512, 384), (512, 384), (512, 384), (512, 384), (512, 384), (512, 384), (512, 384), (512, 384), (512, 384), (512, 384), (512, 384), (512, 384), (512, 384), (512, 384), (512, 384), (512, 384), (512, 384), (512, 384), (512, 384), (512, 384), (512, 384), (512, 384), (512, 384), (512, 384), (512, 384), (512, 384), (512, 384), (512, 384), (512, 384), (512, 384), (512, 384), (512, 384), (512, 384), (512, 384), (512, 384), (512, 384), (512, 384), (512, 384), (512, 384), (512, 384), (512, 384), (512, 384), (512, 384), (512, 384), (512, 384), (512, 384), (512, 384), (512, 384), (512, 384), (512, 384), (512, 384), (512, 384), (512, 384), (512, 384), (512, 384), (512, 384), (512, 384), (512, 384), (512, 384), (512, 384), (512, 384), (512, 384), (512, 384), (512, 384), (512, 384), (512, 384), (512, 384), (512, 384), (512, 384), (512, 384), (512, 384), (512, 384), (512, 384), (512, 384), (512, 384), (512, 384), (512, 384), (512, 384), (512, 384), (512, 384), (512, 384), (512, 384), (512, 384), (512, 384), (512, 384), (512, 384), (512, 384), (512, 384), (512, 384), (512, 384), (512, 384), (512, 384), (512, 384), (512, 384), (512, 384), (512, 384), (512, 384), (512, 384), (512, 384), (512, 384), (512, 384), (512, 384), (512, 384), (512, 384), (512, 384), (512, 384), (512, 384), (512, 384), (512, 384), (512, 384), (512, 384), (512, 384), (512, 384), (512, 384), (512, 384), (512, 384), (512, 384), (512, 384), (512, 384), (512, 384), (512, 384), (512, 384), (512, 384), (512, 384), (512, 384), (512, 384), (512, 384), (512, 384), (512, 384), (512, 384), (512, 384), (512, 384), (512, 384), (512, 384), (512, 384), (512, 384), (512, 384), (512, 384), (512, 384), (512, 384), (512, 384), (512, 384), (512, 384), (512, 384), (512, 384), (512, 384), (512, 384), (512, 384), (512, 384), (512, 384), (512, 384), (512, 384), (512, 384), (512, 384), (512, 384), (512, 384), (512, 384), (512, 384), (512, 384), (512, 384), (512, 384), (512, 384), (512, 384), (512, 384), (512, 384), (512, 384), (512, 384), (512, 384), (512, 384), (512, 384), (512, 384), (512, 384), (512, 384), (512, 384), (512, 384), (512, 384), (512, 384), (512, 384), (512, 384), (512, 384), (512, 384), (512, 384), (512, 384), (512, 384), (512, 384), (512, 384), (512, 384), (512, 384), (512, 384), (512, 384), (512, 384), (512, 384), (512, 384), (512, 384), (512, 384), (512, 384), (512, 384), (512, 384), (512, 384), (512, 384), (512, 384), (512, 384), (512, 384), (512, 384), (512, 384), (512, 384), (512, 384), (512, 384), (512, 384), (512, 384), (512, 384), (512, 384), (512, 384), (512, 384), (512, 384), (512, 384), (512, 384), (512, 384), (512, 384), (512, 384), (512, 384), (512, 384), (512, 384), (512, 384), (512, 384), (512, 384), (512, 384), (512, 384), (512, 384), (512, 384), (512, 384), (512, 384), (512, 384), (512, 384), (512, 384), (512, 384), (512, 384), (512, 384), (512, 384), (512, 384), (512, 384), (512, 384), (512, 384), (512, 384), (512, 384), (512, 384), (512, 384), (512, 384), (512, 384), (512, 384), (512, 384), (512, 384), (512, 384), (512, 384), (512, 384), (512, 384), (512, 384), (512, 384), (512, 384), (512, 384), (512, 384), (512, 384), (512, 384), (512, 384), (512, 384), (512, 384), (512, 384), (512, 384), (512, 384), (512, 384), (512, 384), (512, 384), (512, 384), (512, 384), (512, 384), (512, 384), (512, 384), (512, 384), (512, 384), (512, 384), (512, 384), (512, 384), (512, 384), (512, 384), (512, 384), (512, 384), (512, 384), (512, 384), (512, 384), (512, 384), (512, 384), (512, 384), (512, 384), (512, 384), (512, 384), (512, 384), (512, 384), (512, 384), (512, 384), (512, 384), (512, 384), (512, 384), (512, 384), (512, 384), (512, 384), (512, 384), (512, 384), (512, 384), (512, 384), (512, 384), (512, 384), (512, 384), (512, 384), (512, 384), (512, 384), (512, 384), (512, 384), (512, 384), (512, 384), (512, 384), (512, 384), (512, 384), (512, 384), (512, 384), (512, 384), (512, 384), (512, 384), (512, 384), (512, 384), (512, 384), (512, 384), (512, 384), (512, 384), (512, 384), (512, 384), (512, 384), (512, 384), (512, 384), (512, 384), (512, 384), (512, 384), (512, 384), (512, 384), (512, 384), (512, 384), (512, 384), (512, 384), (512, 384), (512, 384), (512, 384), (512, 384), (512, 384), (512, 384), (512, 384), (512, 384), (512, 384), (512, 384), (512, 384), (512, 384), (512, 384), (512, 384), (512, 384), (512, 384), (512, 384), (512, 384), (512, 384), (512, 384), (512, 384), (512, 384), (512, 384), (512, 384), (512, 384), (512, 384), (512, 384), (512, 384), (512, 384), (512, 384), (512, 384), (512, 384), (512, 384), (512, 384), (512, 384), (512, 384), (512, 384), (512, 384), (512, 384), (512, 384), (512, 384), (512, 384), (512, 384), (512, 384), (512, 384), (512, 384), (512, 384), (512, 384), (512, 384), (512, 384), (512, 384), (512, 384), (512, 384), (512, 384), (512, 384), (512, 384), (512, 384), (512, 384), (512, 384), (512, 384), (512, 384), (512, 384), (512, 384), (512, 384), (512, 384), (512, 384), (512, 384), (512, 384), (512, 384), (512, 384), (512, 384), (512, 384), (512, 384), (512, 384), (512, 384), (512, 384), (512, 384), (512, 384), (512, 384), (512, 384), (512, 384), (512, 384), (512, 384), (512, 384), (512, 384), (512, 384), (512, 384), (512, 384), (512, 384), (512, 384), (512, 384), (512, 384), (512, 384), (512, 384), (512, 384), (512, 384), (512, 384), (512, 384), (512, 384), (512, 384), (512, 384), (512, 384), (512, 384), (512, 384), (512, 384), (512, 384), (512, 384), (512, 384), (512, 384), (512, 384), (512, 384), (512, 384), (512, 384), (512, 384), (512, 384), (512, 384), (512, 384), (512, 384), (512, 384), (512, 384), (512, 384), (512, 384), (512, 384), (512, 384), (512, 384), (512, 384), (512, 384), (512, 384), (512, 384), (512, 384), (512, 384), (512, 384), (512, 384), (512, 384), (512, 384), (512, 384), (512, 384), (512, 384), (512, 384), (512, 384), (512, 384), (512, 384), (512, 384), (512, 384), (512, 384), (512, 384), (512, 384), (512, 384), (512, 384), (512, 384), (512, 384), (512, 384), (512, 384), (512, 384), (512, 384), (512, 384), (512, 384), (512, 384), (512, 384), (512, 384), (512, 384), (512, 384), (512, 384), (512, 384), (512, 384), (512, 384), (512, 384), (512, 384), (512, 384), (512, 384), (512, 384), (512, 384), (512, 384), (512, 384), (512, 384), (512, 384), (512, 384), (512, 384), (512, 384), (512, 384), (512, 384), (512, 384), (512, 384), (512, 384), (512, 384), (512, 384), (512, 384), (512, 384), (512, 384), (512, 384), (512, 384), (512, 384), (512, 384), (512, 384), (512, 384), (512, 384), (512, 384), (512, 384), (512, 384), (512, 384), (512, 384), (512, 384), (512, 384), (512, 384), (512, 384), (512, 384), (512, 384), (512, 384), (512, 384), (512, 384), (512, 384), (512, 384), (512, 384), (512, 384), (512, 384), (512, 384), (512, 384), (512, 384), (512, 384), (512, 384), (512, 384), (512, 384), (512, 384), (512, 384), (512, 384), (512, 384), (512, 384), (512, 384), (512, 384), (512, 384), (512, 384), (512, 384), (512, 384), (512, 384), (512, 384), (512, 384), (512, 384), (512, 384), (512, 384), (512, 384), (512, 384), (512, 384), (512, 384), (512, 384), (512, 384), (512, 384), (512, 384), (512, 384), (512, 384), (512, 384), (512, 384), (512, 384), (512, 384), (512, 384), (512, 384), (512, 384), (512, 384), (512, 384), (512, 384), (512, 384), (512, 384), (512, 384), (512, 384), (512, 384), (512, 384), (512, 384), (512, 384), (512, 384), (512, 384), (512, 384), (512, 384), (512, 384), (512, 384), (512, 384), (512, 384), (512, 384), (512, 384), (512, 384), (512, 384), (512, 384), (512, 384), (512, 384), (512, 384), (512, 384), (512, 384), (512, 384), (512, 384), (512, 384), (512, 384), (512, 384), (512, 384), (512, 384), (512, 384), (512, 384), (512, 384), (512, 384), (512, 384), (512, 384), (512, 384), (512, 384), (512, 384), (512, 384), (512, 384), (512, 384), (512, 384), (512, 384), (512, 384), (512, 384), (512, 384), (512, 384), (512, 384), (512, 384), (512, 384), (512, 384), (512, 384), (512, 384), (512, 384), (512, 384), (512, 384), (512, 384), (512, 384), (512, 384), (512, 384), (512, 384), (512, 384), (512, 384), (512, 384), (512, 384), (512, 384), (512, 384), (512, 384), (512, 384), (512, 384), (512, 384), (512, 384), (512, 384), (512, 384), (512, 384), (512, 384), (512, 384), (512, 384), (512, 384), (512, 384), (512, 384), (512, 384), (512, 384), (512, 384), (512, 384), (512, 384), (512, 384), (512, 384), (512, 384)]\n",
            "First image dimensions: (512, 384)\n",
            "All images have the same dimensions.\n"
          ]
        }
      ]
    },
    {
      "cell_type": "markdown",
      "source": [
        "# **ImageDataGenerator**\n"
      ],
      "metadata": {
        "id": "j1wrONNsIsSP"
      }
    },
    {
      "cell_type": "code",
      "source": [
        "splitfolders.ratio(base_path,seed=43, output=\"Waste-Split\", ratio=(0.6, 0.2, 0.2))"
      ],
      "metadata": {
        "colab": {
          "base_uri": "https://localhost:8080/"
        },
        "id": "eFN0hGmmzbYV",
        "outputId": "d6d1d40f-7982-4ac0-d2f8-c9c6f0af9dc4"
      },
      "execution_count": null,
      "outputs": [
        {
          "output_type": "stream",
          "name": "stderr",
          "text": [
            "Copying files: 2527 files [00:00, 6277.06 files/s]\n"
          ]
        }
      ]
    },
    {
      "cell_type": "code",
      "source": [
        "train_dir = '/content/Waste-Split/train'\n",
        "valid_dir = '/content/Waste-Split/val'\n",
        "test_dir = '/content/Waste-Split/test'"
      ],
      "metadata": {
        "id": "NLaUl-sqzd5b"
      },
      "execution_count": null,
      "outputs": []
    },
    {
      "cell_type": "code",
      "source": [
        "# class_dirs = [os.path.join(train_dir, d) for d in os.listdir(train_dir) if os.path.isdir(os.path.join(train_dir, d))]\n",
        "# print(class_dirs)\n",
        "# print(f'Total number of classes: {len(class_dirs)}')\n",
        "\n",
        "# # Iterate over each class directory in the TRAINING set\n",
        "# for class_dir in class_dirs:\n",
        "#     # The directory is already pointing to each class directory in the training set\n",
        "#     current_image_count = sum([len(files) for _, _, files in os.walk(class_dir)])\n",
        "#     num_new_images = int(current_image_count * 0.20)  # Calculate 20% of the current size\n",
        "\n",
        "#     augment_images(class_dir, num_new_images)"
      ],
      "metadata": {
        "colab": {
          "base_uri": "https://localhost:8080/"
        },
        "id": "XN7dWFQog2Y1",
        "outputId": "6339f710-8dbd-4a7d-882f-52202ad531b3"
      },
      "execution_count": null,
      "outputs": [
        {
          "output_type": "stream",
          "name": "stdout",
          "text": [
            "['/content/Waste-Split/train/metal', '/content/Waste-Split/train/paper', '/content/Waste-Split/train/plastic', '/content/Waste-Split/train/trash', '/content/Waste-Split/train/cardboard', '/content/Waste-Split/train/glass']\n",
            "Total number of classes: 6\n"
          ]
        }
      ]
    },
    {
      "cell_type": "code",
      "source": [
        "augmentation_datagen = ImageDataGenerator(\n",
        "    rescale=1./255,\n",
        "    shear_range=0.1,\n",
        "    zoom_range=0.1,\n",
        "    width_shift_range=0.1,\n",
        "    height_shift_range=0.1,\n",
        "    horizontal_flip=True,\n",
        "    vertical_flip=True,\n",
        ")\n",
        "\n",
        "def augment_images(directory, target_size):\n",
        "    # Calculate current number of images in the directory\n",
        "    num_images = len([name for name in os.listdir(directory) if os.path.isfile(os.path.join(directory, name))])\n",
        "    # Calculate how many new images are needed to reach the target size\n",
        "    num_new_images = target_size - num_images\n",
        "\n",
        "    num_generated_files = 0\n",
        "    for file in os.listdir(directory):\n",
        "        if num_generated_files >= num_new_images:\n",
        "            break\n",
        "        image_path = os.path.join(directory, file)\n",
        "        image = load_img(image_path)\n",
        "        image_array = img_to_array(image)\n",
        "        image_array = image_array.reshape((1,) + image_array.shape)\n",
        "\n",
        "        # Generate and save augmented images\n",
        "        for batch in augmentation_datagen.flow(image_array, batch_size=1, save_to_dir=directory,\n",
        "                                               save_prefix='aug_', save_format='jpeg'):\n",
        "            num_generated_files += 1\n",
        "            if num_generated_files >= num_new_images:\n",
        "                break\n",
        "\n",
        "# Path to the training directory\n",
        "train_dir = '/content/Waste-Split/train'\n",
        "\n",
        "# Obtain a list of class directories in the training set\n",
        "class_dirs = [os.path.join(train_dir, d) for d in os.listdir(train_dir) if os.path.isdir(os.path.join(train_dir, d))]\n",
        "\n",
        "# Calculate target size based on the largest class in the training set\n",
        "max_size = max([sum([len(files) for _, _, files in os.walk(class_dir)]) for class_dir in class_dirs])\n",
        "\n",
        "# Augment each class in training set to reach target size\n",
        "for class_dir in class_dirs:\n",
        "    augment_images(class_dir, max_size)"
      ],
      "metadata": {
        "id": "GiWiPzK-nmYi"
      },
      "execution_count": null,
      "outputs": []
    },
    {
      "cell_type": "code",
      "source": [
        "train_datagen = ImageDataGenerator(\n",
        "    rescale=1./255,\n",
        "    shear_range=0.1,\n",
        "    zoom_range=0.1,\n",
        "    width_shift_range=0.1,\n",
        "    height_shift_range=0.1,\n",
        "    horizontal_flip=True,\n",
        "    vertical_flip=True,\n",
        ")\n",
        "\n",
        "test_datagen = ImageDataGenerator(\n",
        "    rescale=1./255,\n",
        ")\n",
        "\n",
        "train_generator = train_datagen.flow_from_directory(\n",
        "    train_dir,\n",
        "    target_size=(300, 300),\n",
        "    batch_size=16,\n",
        "    class_mode='categorical',\n",
        "    seed=42\n",
        ")\n",
        "\n",
        "validation_generator = test_datagen.flow_from_directory(\n",
        "    valid_dir,\n",
        "    target_size=(300, 300),\n",
        "    batch_size=16,\n",
        "    class_mode='categorical',\n",
        "    seed=42\n",
        ")\n",
        "\n",
        "test_generator = test_datagen.flow_from_directory(\n",
        "    test_dir,\n",
        "    target_size=(300, 300),\n",
        "    batch_size=1,\n",
        "    class_mode='categorical',\n",
        "    seed=42)\n",
        "\n",
        "labels = (train_generator.class_indices)\n",
        "labels = dict((v,k) for k,v in labels.items())\n",
        "labels\n",
        "\n",
        "input_shape = (300, 300, 3)\n",
        "num_classes = 6"
      ],
      "metadata": {
        "colab": {
          "base_uri": "https://localhost:8080/"
        },
        "id": "Ee5VTeFNaP8m",
        "outputId": "2a12560b-cacd-4d38-f5b8-a5f414961224"
      },
      "execution_count": null,
      "outputs": [
        {
          "output_type": "stream",
          "name": "stdout",
          "text": [
            "Found 2126 images belonging to 6 classes.\n",
            "Found 503 images belonging to 6 classes.\n",
            "Found 510 images belonging to 6 classes.\n"
          ]
        }
      ]
    },
    {
      "cell_type": "markdown",
      "source": [
        "# **Implementing Transfer Learning with DenseNet121**"
      ],
      "metadata": {
        "id": "nYXIPZnK-BIF"
      }
    },
    {
      "cell_type": "code",
      "source": [
        "data = []\n",
        "labels = []\n",
        "class_names = os.listdir(base_path)\n",
        "for class_name in class_names:\n",
        "    class_dir = os.path.join(base_path, class_name)\n",
        "    if os.path.isdir(class_dir):\n",
        "        for img in os.listdir(class_dir):\n",
        "            img_path = os.path.join(class_dir, img)\n",
        "            data.append(img_path)\n",
        "            labels.append(class_name)\n",
        "\n",
        "# Convert labels to integer indices\n",
        "label_to_index = {label: index for index, label in enumerate(class_names)}\n",
        "labels = np.array([label_to_index[label] for label in labels])\n",
        "\n",
        "# Define k-fold cross-validator\n",
        "num_folds = 5\n",
        "kf = KFold(n_splits=num_folds, shuffle=True, random_state=42)\n",
        "fold_no = 1\n",
        "\n",
        "for train_index, val_index in kf.split(data):\n",
        "    train_data = np.array(data)[train_index]\n",
        "    val_data = np.array(data)[val_index]\n",
        "    train_labels = labels[train_index]\n",
        "    val_labels = labels[val_index]\n",
        "\n",
        "    # Convert labels back to strings for DataFrame compatibility with flow_from_dataframe\n",
        "    train_labels_str = [class_names[label] for label in train_labels]  # class_names is your list of class names\n",
        "    val_labels_str = [class_names[label] for label in val_labels]\n",
        "\n",
        "    # Create DataFrames for the generators\n",
        "    train_df = pd.DataFrame({'filename': train_data, 'class': train_labels_str})\n",
        "    val_df = pd.DataFrame({'filename': val_data, 'class': val_labels_str})\n",
        "\n",
        "    # Data generators\n",
        "    train_datagen = ImageDataGenerator(\n",
        "        rescale=1./255,\n",
        "        shear_range=0.1,\n",
        "        zoom_range=0.1,\n",
        "        width_shift_range=0.1,\n",
        "        height_shift_range=0.1,\n",
        "        horizontal_flip=True,\n",
        "        vertical_flip=True,\n",
        "    )\n",
        "\n",
        "    val_datagen = ImageDataGenerator(rescale=1./255)\n",
        "\n",
        "    train_generator = train_datagen.flow_from_dataframe(\n",
        "        dataframe=train_df,\n",
        "        directory=None,\n",
        "        x_col='filename',\n",
        "        y_col='class',\n",
        "        target_size=(300, 300),\n",
        "        batch_size=16,\n",
        "        class_mode='categorical'\n",
        "    )\n",
        "\n",
        "    validation_generator = val_datagen.flow_from_dataframe(\n",
        "        dataframe=val_df,\n",
        "        directory=None,\n",
        "        x_col='filename',\n",
        "        y_col='class',\n",
        "        target_size=(300, 300),\n",
        "        batch_size=16,\n",
        "        class_mode='categorical'\n",
        "    )\n",
        "\n",
        "    # Define model architecture\n",
        "    base_model = DenseNet121(weights='imagenet', include_top=False, input_shape=(300, 300, 3))\n",
        "    x = base_model.output\n",
        "    x = GlobalAveragePooling2D()(x)\n",
        "    x = Dense(121, activation='relu')(x)\n",
        "    x = Dropout(0.5)(x)\n",
        "    predictions = Dense(len(class_names), activation='softmax')(x)\n",
        "    model = Model(inputs=base_model.input, outputs=predictions)\n",
        "    for layer in base_model.layers:\n",
        "        layer.trainable = False\n",
        "\n",
        "    # Compile model\n",
        "    model.compile(optimizer=Adam(learning_rate=0.0001), loss='categorical_crossentropy', metrics=['accuracy'])\n",
        "    print(f'Training for fold {fold_no} ...')\n",
        "\n",
        "    # Fit data to model\n",
        "    history = model.fit(\n",
        "        train_generator,\n",
        "        epochs=20,\n",
        "        validation_data=validation_generator,\n",
        "        callbacks=[EarlyStopping(monitor='val_loss', patience=3, restore_best_weights=True)]\n",
        "    )\n",
        "\n",
        "    fold_no += 1"
      ],
      "metadata": {
        "colab": {
          "base_uri": "https://localhost:8080/"
        },
        "id": "PreiJxPMBKng",
        "outputId": "e5a873fd-711e-4b6b-afe1-0c2a9f8bb7c7"
      },
      "execution_count": null,
      "outputs": [
        {
          "output_type": "stream",
          "name": "stdout",
          "text": [
            "Found 2021 validated image filenames belonging to 6 classes.\n",
            "Found 506 validated image filenames belonging to 6 classes.\n",
            "Training for fold 1 ...\n",
            "Epoch 1/20\n",
            "127/127 [==============================] - 44s 302ms/step - loss: 1.7622 - accuracy: 0.2870 - val_loss: 1.3532 - val_accuracy: 0.5356\n",
            "Epoch 2/20\n",
            "127/127 [==============================] - 37s 293ms/step - loss: 1.3185 - accuracy: 0.4899 - val_loss: 1.0619 - val_accuracy: 0.6640\n",
            "Epoch 3/20\n",
            "127/127 [==============================] - 37s 294ms/step - loss: 1.1106 - accuracy: 0.5908 - val_loss: 0.8981 - val_accuracy: 0.6957\n",
            "Epoch 4/20\n",
            "127/127 [==============================] - 38s 297ms/step - loss: 0.9747 - accuracy: 0.6324 - val_loss: 0.7987 - val_accuracy: 0.7273\n",
            "Epoch 5/20\n",
            "127/127 [==============================] - 37s 294ms/step - loss: 0.9070 - accuracy: 0.6655 - val_loss: 0.7350 - val_accuracy: 0.7549\n",
            "Epoch 6/20\n",
            "127/127 [==============================] - 37s 294ms/step - loss: 0.8584 - accuracy: 0.6927 - val_loss: 0.6913 - val_accuracy: 0.7648\n",
            "Epoch 7/20\n",
            "127/127 [==============================] - 37s 291ms/step - loss: 0.8176 - accuracy: 0.6952 - val_loss: 0.6468 - val_accuracy: 0.7925\n",
            "Epoch 8/20\n",
            "127/127 [==============================] - 37s 291ms/step - loss: 0.7602 - accuracy: 0.7363 - val_loss: 0.6226 - val_accuracy: 0.7846\n",
            "Epoch 9/20\n",
            "127/127 [==============================] - 37s 294ms/step - loss: 0.7366 - accuracy: 0.7269 - val_loss: 0.6018 - val_accuracy: 0.7826\n",
            "Epoch 10/20\n",
            "127/127 [==============================] - 37s 287ms/step - loss: 0.6903 - accuracy: 0.7585 - val_loss: 0.5797 - val_accuracy: 0.7826\n",
            "Epoch 11/20\n",
            "127/127 [==============================] - 37s 290ms/step - loss: 0.6684 - accuracy: 0.7620 - val_loss: 0.5543 - val_accuracy: 0.7945\n",
            "Epoch 12/20\n",
            "127/127 [==============================] - 37s 294ms/step - loss: 0.6407 - accuracy: 0.7724 - val_loss: 0.5321 - val_accuracy: 0.7984\n",
            "Epoch 13/20\n",
            "127/127 [==============================] - 38s 296ms/step - loss: 0.6263 - accuracy: 0.7788 - val_loss: 0.5259 - val_accuracy: 0.8202\n",
            "Epoch 14/20\n",
            "127/127 [==============================] - 36s 286ms/step - loss: 0.6256 - accuracy: 0.7724 - val_loss: 0.5271 - val_accuracy: 0.8103\n",
            "Epoch 15/20\n",
            "127/127 [==============================] - 37s 294ms/step - loss: 0.5804 - accuracy: 0.8006 - val_loss: 0.5029 - val_accuracy: 0.8241\n",
            "Epoch 16/20\n",
            "127/127 [==============================] - 37s 292ms/step - loss: 0.5674 - accuracy: 0.7996 - val_loss: 0.4925 - val_accuracy: 0.8320\n",
            "Epoch 17/20\n",
            "127/127 [==============================] - 37s 290ms/step - loss: 0.5477 - accuracy: 0.8085 - val_loss: 0.4830 - val_accuracy: 0.8281\n",
            "Epoch 18/20\n",
            "127/127 [==============================] - 37s 291ms/step - loss: 0.5489 - accuracy: 0.8085 - val_loss: 0.4801 - val_accuracy: 0.8241\n",
            "Epoch 19/20\n",
            "127/127 [==============================] - 37s 294ms/step - loss: 0.5295 - accuracy: 0.8189 - val_loss: 0.4786 - val_accuracy: 0.8202\n",
            "Epoch 20/20\n",
            "127/127 [==============================] - 37s 293ms/step - loss: 0.5198 - accuracy: 0.8120 - val_loss: 0.4667 - val_accuracy: 0.8281\n",
            "Found 2021 validated image filenames belonging to 6 classes.\n",
            "Found 506 validated image filenames belonging to 6 classes.\n",
            "Training for fold 2 ...\n",
            "Epoch 1/20\n",
            "127/127 [==============================] - 45s 307ms/step - loss: 1.6387 - accuracy: 0.3587 - val_loss: 1.2250 - val_accuracy: 0.5632\n",
            "Epoch 2/20\n",
            "127/127 [==============================] - 37s 292ms/step - loss: 1.2799 - accuracy: 0.5022 - val_loss: 1.0135 - val_accuracy: 0.6581\n",
            "Epoch 3/20\n",
            "127/127 [==============================] - 37s 294ms/step - loss: 1.0662 - accuracy: 0.6032 - val_loss: 0.8872 - val_accuracy: 0.7134\n",
            "Epoch 4/20\n",
            "127/127 [==============================] - 37s 293ms/step - loss: 0.9496 - accuracy: 0.6517 - val_loss: 0.8040 - val_accuracy: 0.7391\n",
            "Epoch 5/20\n",
            "127/127 [==============================] - 38s 299ms/step - loss: 0.8911 - accuracy: 0.6670 - val_loss: 0.7414 - val_accuracy: 0.7431\n",
            "Epoch 6/20\n",
            "127/127 [==============================] - 37s 292ms/step - loss: 0.8225 - accuracy: 0.6942 - val_loss: 0.6941 - val_accuracy: 0.7767\n",
            "Epoch 7/20\n",
            "127/127 [==============================] - 38s 297ms/step - loss: 0.7847 - accuracy: 0.7016 - val_loss: 0.6694 - val_accuracy: 0.7767\n",
            "Epoch 8/20\n",
            "127/127 [==============================] - 38s 298ms/step - loss: 0.7488 - accuracy: 0.7214 - val_loss: 0.6371 - val_accuracy: 0.7866\n",
            "Epoch 9/20\n",
            "127/127 [==============================] - 39s 305ms/step - loss: 0.7140 - accuracy: 0.7412 - val_loss: 0.6183 - val_accuracy: 0.7905\n",
            "Epoch 10/20\n",
            "127/127 [==============================] - 39s 304ms/step - loss: 0.7000 - accuracy: 0.7447 - val_loss: 0.6079 - val_accuracy: 0.7905\n",
            "Epoch 11/20\n",
            "127/127 [==============================] - 39s 306ms/step - loss: 0.6665 - accuracy: 0.7605 - val_loss: 0.5881 - val_accuracy: 0.7964\n",
            "Epoch 12/20\n",
            "127/127 [==============================] - 37s 293ms/step - loss: 0.6375 - accuracy: 0.7773 - val_loss: 0.5715 - val_accuracy: 0.8043\n",
            "Epoch 13/20\n",
            "127/127 [==============================] - 37s 292ms/step - loss: 0.6182 - accuracy: 0.7754 - val_loss: 0.5640 - val_accuracy: 0.8043\n",
            "Epoch 14/20\n",
            "127/127 [==============================] - 37s 293ms/step - loss: 0.6010 - accuracy: 0.7902 - val_loss: 0.5486 - val_accuracy: 0.8024\n",
            "Epoch 15/20\n",
            "127/127 [==============================] - 37s 288ms/step - loss: 0.5692 - accuracy: 0.8115 - val_loss: 0.5431 - val_accuracy: 0.8202\n",
            "Epoch 16/20\n",
            "127/127 [==============================] - 37s 291ms/step - loss: 0.5775 - accuracy: 0.7932 - val_loss: 0.5271 - val_accuracy: 0.8202\n",
            "Epoch 17/20\n",
            "127/127 [==============================] - 37s 293ms/step - loss: 0.5567 - accuracy: 0.8159 - val_loss: 0.5241 - val_accuracy: 0.8241\n",
            "Epoch 18/20\n",
            "127/127 [==============================] - 38s 299ms/step - loss: 0.5501 - accuracy: 0.8100 - val_loss: 0.5163 - val_accuracy: 0.8241\n",
            "Epoch 19/20\n",
            "127/127 [==============================] - 37s 293ms/step - loss: 0.5286 - accuracy: 0.8199 - val_loss: 0.5106 - val_accuracy: 0.8221\n",
            "Epoch 20/20\n",
            "127/127 [==============================] - 37s 293ms/step - loss: 0.5051 - accuracy: 0.8268 - val_loss: 0.5014 - val_accuracy: 0.8340\n",
            "Found 2022 validated image filenames belonging to 6 classes.\n",
            "Found 505 validated image filenames belonging to 6 classes.\n",
            "Training for fold 3 ...\n",
            "Epoch 1/20\n",
            "127/127 [==============================] - 50s 336ms/step - loss: 1.6540 - accuracy: 0.3269 - val_loss: 1.2780 - val_accuracy: 0.5366\n",
            "Epoch 2/20\n",
            "127/127 [==============================] - 38s 295ms/step - loss: 1.2743 - accuracy: 0.5173 - val_loss: 1.0585 - val_accuracy: 0.6178\n",
            "Epoch 3/20\n",
            "127/127 [==============================] - 38s 296ms/step - loss: 1.1091 - accuracy: 0.5757 - val_loss: 0.9210 - val_accuracy: 0.6891\n",
            "Epoch 4/20\n",
            "127/127 [==============================] - 38s 299ms/step - loss: 0.9935 - accuracy: 0.6261 - val_loss: 0.8235 - val_accuracy: 0.7287\n",
            "Epoch 5/20\n",
            "127/127 [==============================] - 38s 301ms/step - loss: 0.9076 - accuracy: 0.6667 - val_loss: 0.7659 - val_accuracy: 0.7287\n",
            "Epoch 6/20\n",
            "127/127 [==============================] - 38s 301ms/step - loss: 0.8697 - accuracy: 0.6775 - val_loss: 0.7090 - val_accuracy: 0.7644\n",
            "Epoch 7/20\n",
            "127/127 [==============================] - 37s 295ms/step - loss: 0.8069 - accuracy: 0.7072 - val_loss: 0.6718 - val_accuracy: 0.7485\n",
            "Epoch 8/20\n",
            "127/127 [==============================] - 38s 298ms/step - loss: 0.7579 - accuracy: 0.7176 - val_loss: 0.6347 - val_accuracy: 0.7822\n",
            "Epoch 9/20\n",
            "127/127 [==============================] - 38s 298ms/step - loss: 0.7242 - accuracy: 0.7458 - val_loss: 0.6127 - val_accuracy: 0.7881\n",
            "Epoch 10/20\n",
            "127/127 [==============================] - 37s 292ms/step - loss: 0.7034 - accuracy: 0.7389 - val_loss: 0.5832 - val_accuracy: 0.7941\n",
            "Epoch 11/20\n",
            "127/127 [==============================] - 37s 293ms/step - loss: 0.6707 - accuracy: 0.7636 - val_loss: 0.5579 - val_accuracy: 0.8020\n",
            "Epoch 12/20\n",
            "127/127 [==============================] - 38s 302ms/step - loss: 0.6507 - accuracy: 0.7710 - val_loss: 0.5454 - val_accuracy: 0.8099\n",
            "Epoch 13/20\n",
            "127/127 [==============================] - 38s 295ms/step - loss: 0.6364 - accuracy: 0.7735 - val_loss: 0.5438 - val_accuracy: 0.8040\n",
            "Epoch 14/20\n",
            "127/127 [==============================] - 38s 298ms/step - loss: 0.6018 - accuracy: 0.7933 - val_loss: 0.5247 - val_accuracy: 0.8119\n",
            "Epoch 15/20\n",
            "127/127 [==============================] - 37s 290ms/step - loss: 0.5915 - accuracy: 0.7859 - val_loss: 0.5151 - val_accuracy: 0.8139\n",
            "Epoch 16/20\n",
            "127/127 [==============================] - 37s 293ms/step - loss: 0.5690 - accuracy: 0.7962 - val_loss: 0.4926 - val_accuracy: 0.8257\n",
            "Epoch 17/20\n",
            "127/127 [==============================] - 37s 292ms/step - loss: 0.5674 - accuracy: 0.7913 - val_loss: 0.4857 - val_accuracy: 0.8277\n",
            "Epoch 18/20\n",
            "127/127 [==============================] - 37s 292ms/step - loss: 0.5528 - accuracy: 0.8140 - val_loss: 0.4780 - val_accuracy: 0.8257\n",
            "Epoch 19/20\n",
            "127/127 [==============================] - 38s 302ms/step - loss: 0.5301 - accuracy: 0.8215 - val_loss: 0.4690 - val_accuracy: 0.8317\n",
            "Epoch 20/20\n",
            "127/127 [==============================] - 38s 299ms/step - loss: 0.5301 - accuracy: 0.8190 - val_loss: 0.4627 - val_accuracy: 0.8396\n",
            "Found 2022 validated image filenames belonging to 6 classes.\n",
            "Found 505 validated image filenames belonging to 6 classes.\n",
            "Training for fold 4 ...\n",
            "Epoch 1/20\n",
            "127/127 [==============================] - 46s 312ms/step - loss: 1.7708 - accuracy: 0.2893 - val_loss: 1.3313 - val_accuracy: 0.5188\n",
            "Epoch 2/20\n",
            "127/127 [==============================] - 37s 294ms/step - loss: 1.3212 - accuracy: 0.5059 - val_loss: 1.0841 - val_accuracy: 0.6198\n",
            "Epoch 3/20\n",
            "127/127 [==============================] - 38s 299ms/step - loss: 1.1525 - accuracy: 0.5643 - val_loss: 0.9293 - val_accuracy: 0.6911\n",
            "Epoch 4/20\n",
            "127/127 [==============================] - 37s 294ms/step - loss: 1.0180 - accuracy: 0.6281 - val_loss: 0.8406 - val_accuracy: 0.7168\n",
            "Epoch 5/20\n",
            "127/127 [==============================] - 38s 298ms/step - loss: 0.9393 - accuracy: 0.6612 - val_loss: 0.7675 - val_accuracy: 0.7465\n",
            "Epoch 6/20\n",
            "127/127 [==============================] - 38s 295ms/step - loss: 0.8615 - accuracy: 0.6855 - val_loss: 0.7192 - val_accuracy: 0.7644\n",
            "Epoch 7/20\n",
            "127/127 [==============================] - 38s 302ms/step - loss: 0.7987 - accuracy: 0.7102 - val_loss: 0.6882 - val_accuracy: 0.7743\n",
            "Epoch 8/20\n",
            "127/127 [==============================] - 37s 290ms/step - loss: 0.7493 - accuracy: 0.7310 - val_loss: 0.6560 - val_accuracy: 0.7881\n",
            "Epoch 9/20\n",
            "127/127 [==============================] - 38s 298ms/step - loss: 0.7341 - accuracy: 0.7418 - val_loss: 0.6390 - val_accuracy: 0.7941\n",
            "Epoch 10/20\n",
            "127/127 [==============================] - 38s 295ms/step - loss: 0.6728 - accuracy: 0.7700 - val_loss: 0.6195 - val_accuracy: 0.8079\n",
            "Epoch 11/20\n",
            "127/127 [==============================] - 37s 290ms/step - loss: 0.6886 - accuracy: 0.7443 - val_loss: 0.6101 - val_accuracy: 0.8020\n",
            "Epoch 12/20\n",
            "127/127 [==============================] - 37s 288ms/step - loss: 0.6386 - accuracy: 0.7755 - val_loss: 0.5875 - val_accuracy: 0.8079\n",
            "Epoch 13/20\n",
            "127/127 [==============================] - 37s 295ms/step - loss: 0.6393 - accuracy: 0.7730 - val_loss: 0.5797 - val_accuracy: 0.8119\n",
            "Epoch 14/20\n",
            "127/127 [==============================] - 37s 290ms/step - loss: 0.6080 - accuracy: 0.7849 - val_loss: 0.5660 - val_accuracy: 0.8099\n",
            "Epoch 15/20\n",
            "127/127 [==============================] - 38s 301ms/step - loss: 0.5751 - accuracy: 0.7943 - val_loss: 0.5732 - val_accuracy: 0.8000\n",
            "Epoch 16/20\n",
            "127/127 [==============================] - 38s 302ms/step - loss: 0.5606 - accuracy: 0.8066 - val_loss: 0.5614 - val_accuracy: 0.8099\n",
            "Epoch 17/20\n",
            "127/127 [==============================] - 38s 297ms/step - loss: 0.5523 - accuracy: 0.8264 - val_loss: 0.5439 - val_accuracy: 0.8178\n",
            "Epoch 18/20\n",
            "127/127 [==============================] - 39s 303ms/step - loss: 0.5243 - accuracy: 0.8150 - val_loss: 0.5352 - val_accuracy: 0.8257\n",
            "Epoch 19/20\n",
            "127/127 [==============================] - 37s 292ms/step - loss: 0.5198 - accuracy: 0.8145 - val_loss: 0.5297 - val_accuracy: 0.8218\n",
            "Epoch 20/20\n",
            "127/127 [==============================] - 38s 299ms/step - loss: 0.5005 - accuracy: 0.8323 - val_loss: 0.5284 - val_accuracy: 0.8178\n",
            "Found 2022 validated image filenames belonging to 6 classes.\n",
            "Found 505 validated image filenames belonging to 6 classes.\n",
            "Training for fold 5 ...\n",
            "Epoch 1/20\n",
            "127/127 [==============================] - 47s 320ms/step - loss: 1.6190 - accuracy: 0.3571 - val_loss: 1.2492 - val_accuracy: 0.5901\n",
            "Epoch 2/20\n",
            "127/127 [==============================] - 39s 307ms/step - loss: 1.2739 - accuracy: 0.5232 - val_loss: 1.0176 - val_accuracy: 0.6851\n",
            "Epoch 3/20\n",
            "127/127 [==============================] - 38s 297ms/step - loss: 1.1001 - accuracy: 0.6088 - val_loss: 0.8925 - val_accuracy: 0.7307\n",
            "Epoch 4/20\n",
            "127/127 [==============================] - 38s 301ms/step - loss: 0.9673 - accuracy: 0.6489 - val_loss: 0.8093 - val_accuracy: 0.7525\n",
            "Epoch 5/20\n",
            "127/127 [==============================] - 37s 291ms/step - loss: 0.8834 - accuracy: 0.6761 - val_loss: 0.7487 - val_accuracy: 0.7663\n",
            "Epoch 6/20\n",
            "127/127 [==============================] - 38s 301ms/step - loss: 0.8416 - accuracy: 0.6954 - val_loss: 0.7041 - val_accuracy: 0.7822\n",
            "Epoch 7/20\n",
            "127/127 [==============================] - 37s 294ms/step - loss: 0.7871 - accuracy: 0.7181 - val_loss: 0.6737 - val_accuracy: 0.8000\n",
            "Epoch 8/20\n",
            "127/127 [==============================] - 37s 292ms/step - loss: 0.7440 - accuracy: 0.7364 - val_loss: 0.6484 - val_accuracy: 0.7980\n",
            "Epoch 9/20\n",
            "127/127 [==============================] - 37s 293ms/step - loss: 0.7145 - accuracy: 0.7512 - val_loss: 0.6285 - val_accuracy: 0.8040\n",
            "Epoch 10/20\n",
            "127/127 [==============================] - 39s 305ms/step - loss: 0.7030 - accuracy: 0.7369 - val_loss: 0.6055 - val_accuracy: 0.7960\n",
            "Epoch 11/20\n",
            "127/127 [==============================] - 38s 302ms/step - loss: 0.6483 - accuracy: 0.7681 - val_loss: 0.5910 - val_accuracy: 0.8059\n",
            "Epoch 12/20\n",
            "127/127 [==============================] - 37s 294ms/step - loss: 0.6560 - accuracy: 0.7651 - val_loss: 0.5730 - val_accuracy: 0.8158\n",
            "Epoch 13/20\n",
            "127/127 [==============================] - 37s 295ms/step - loss: 0.6149 - accuracy: 0.7765 - val_loss: 0.5586 - val_accuracy: 0.8238\n",
            "Epoch 14/20\n",
            "127/127 [==============================] - 38s 297ms/step - loss: 0.6224 - accuracy: 0.7799 - val_loss: 0.5563 - val_accuracy: 0.8079\n",
            "Epoch 15/20\n",
            "127/127 [==============================] - 38s 301ms/step - loss: 0.5866 - accuracy: 0.8051 - val_loss: 0.5523 - val_accuracy: 0.8119\n",
            "Epoch 16/20\n",
            "127/127 [==============================] - 37s 292ms/step - loss: 0.5731 - accuracy: 0.8061 - val_loss: 0.5268 - val_accuracy: 0.8198\n",
            "Epoch 17/20\n",
            "127/127 [==============================] - 38s 296ms/step - loss: 0.5601 - accuracy: 0.8007 - val_loss: 0.5276 - val_accuracy: 0.8238\n",
            "Epoch 18/20\n",
            "127/127 [==============================] - 37s 290ms/step - loss: 0.5333 - accuracy: 0.8234 - val_loss: 0.5072 - val_accuracy: 0.8297\n",
            "Epoch 19/20\n",
            "127/127 [==============================] - 38s 298ms/step - loss: 0.5085 - accuracy: 0.8269 - val_loss: 0.5028 - val_accuracy: 0.8257\n",
            "Epoch 20/20\n",
            "127/127 [==============================] - 37s 290ms/step - loss: 0.5248 - accuracy: 0.8200 - val_loss: 0.5012 - val_accuracy: 0.8376\n"
          ]
        }
      ]
    },
    {
      "cell_type": "markdown",
      "source": [
        "# **Loss Curve for DenseNet121**"
      ],
      "metadata": {
        "id": "Zc376EtqL5ur"
      }
    },
    {
      "cell_type": "code",
      "source": [
        "training_loss = history.history['loss']\n",
        "validation_loss = history.history['val_loss']\n",
        "epochs = range(1, len(training_loss) + 1)\n",
        "\n",
        "# Plot loss curves\n",
        "plt.figure(figsize=(5, 4))\n",
        "plt.plot(epochs, training_loss, label='Training Loss', color='skyblue', marker='o', linestyle='-', linewidth=1.5)\n",
        "plt.plot(epochs, validation_loss, label='Validation Loss', color='purple', marker='o', linestyle='-', linewidth=1.5)\n",
        "\n",
        "plt.title('Training and Validation Loss Curves')\n",
        "plt.xlabel('Epochs')\n",
        "plt.ylabel('Loss')\n",
        "plt.legend()\n",
        "\n",
        "plt.grid(True)\n",
        "plt.tight_layout()\n",
        "plt.savefig('/content/Saved Models_CDS_Project/DenseNet121_losscurves.png', transparent=True)\n",
        "files.download('/content/Saved Models_CDS_Project/DenseNet121_losscurves.png')\n",
        "plt.show()"
      ],
      "metadata": {
        "colab": {
          "base_uri": "https://localhost:8080/",
          "height": 763
        },
        "id": "23kshippxSgq",
        "outputId": "9c9921c1-b51c-4cce-c017-8107481b71a5"
      },
      "execution_count": null,
      "outputs": [
        {
          "output_type": "error",
          "ename": "FileNotFoundError",
          "evalue": "[Errno 2] No such file or directory: '/content/Saved Models_CDS_Project/DenseNet121_losscurves.png'",
          "traceback": [
            "\u001b[0;31m---------------------------------------------------------------------------\u001b[0m",
            "\u001b[0;31mFileNotFoundError\u001b[0m                         Traceback (most recent call last)",
            "\u001b[0;32m<ipython-input-41-ca3e096b38a1>\u001b[0m in \u001b[0;36m<cell line: 17>\u001b[0;34m()\u001b[0m\n\u001b[1;32m     15\u001b[0m \u001b[0mplt\u001b[0m\u001b[0;34m.\u001b[0m\u001b[0mgrid\u001b[0m\u001b[0;34m(\u001b[0m\u001b[0;32mTrue\u001b[0m\u001b[0;34m)\u001b[0m\u001b[0;34m\u001b[0m\u001b[0;34m\u001b[0m\u001b[0m\n\u001b[1;32m     16\u001b[0m \u001b[0mplt\u001b[0m\u001b[0;34m.\u001b[0m\u001b[0mtight_layout\u001b[0m\u001b[0;34m(\u001b[0m\u001b[0;34m)\u001b[0m\u001b[0;34m\u001b[0m\u001b[0;34m\u001b[0m\u001b[0m\n\u001b[0;32m---> 17\u001b[0;31m \u001b[0mplt\u001b[0m\u001b[0;34m.\u001b[0m\u001b[0msavefig\u001b[0m\u001b[0;34m(\u001b[0m\u001b[0;34m'/content/Saved Models_CDS_Project/DenseNet121_losscurves.png'\u001b[0m\u001b[0;34m,\u001b[0m \u001b[0mtransparent\u001b[0m\u001b[0;34m=\u001b[0m\u001b[0;32mTrue\u001b[0m\u001b[0;34m)\u001b[0m\u001b[0;34m\u001b[0m\u001b[0;34m\u001b[0m\u001b[0m\n\u001b[0m\u001b[1;32m     18\u001b[0m \u001b[0mfiles\u001b[0m\u001b[0;34m.\u001b[0m\u001b[0mdownload\u001b[0m\u001b[0;34m(\u001b[0m\u001b[0;34m'/content/Saved Models_CDS_Project/DenseNet121_losscurves.png'\u001b[0m\u001b[0;34m)\u001b[0m\u001b[0;34m\u001b[0m\u001b[0;34m\u001b[0m\u001b[0m\n\u001b[1;32m     19\u001b[0m \u001b[0mplt\u001b[0m\u001b[0;34m.\u001b[0m\u001b[0mshow\u001b[0m\u001b[0;34m(\u001b[0m\u001b[0;34m)\u001b[0m\u001b[0;34m\u001b[0m\u001b[0;34m\u001b[0m\u001b[0m\n",
            "\u001b[0;32m/usr/local/lib/python3.10/dist-packages/matplotlib/pyplot.py\u001b[0m in \u001b[0;36msavefig\u001b[0;34m(*args, **kwargs)\u001b[0m\n\u001b[1;32m   1021\u001b[0m \u001b[0;32mdef\u001b[0m \u001b[0msavefig\u001b[0m\u001b[0;34m(\u001b[0m\u001b[0;34m*\u001b[0m\u001b[0margs\u001b[0m\u001b[0;34m,\u001b[0m \u001b[0;34m**\u001b[0m\u001b[0mkwargs\u001b[0m\u001b[0;34m)\u001b[0m\u001b[0;34m:\u001b[0m\u001b[0;34m\u001b[0m\u001b[0;34m\u001b[0m\u001b[0m\n\u001b[1;32m   1022\u001b[0m     \u001b[0mfig\u001b[0m \u001b[0;34m=\u001b[0m \u001b[0mgcf\u001b[0m\u001b[0;34m(\u001b[0m\u001b[0;34m)\u001b[0m\u001b[0;34m\u001b[0m\u001b[0;34m\u001b[0m\u001b[0m\n\u001b[0;32m-> 1023\u001b[0;31m     \u001b[0mres\u001b[0m \u001b[0;34m=\u001b[0m \u001b[0mfig\u001b[0m\u001b[0;34m.\u001b[0m\u001b[0msavefig\u001b[0m\u001b[0;34m(\u001b[0m\u001b[0;34m*\u001b[0m\u001b[0margs\u001b[0m\u001b[0;34m,\u001b[0m \u001b[0;34m**\u001b[0m\u001b[0mkwargs\u001b[0m\u001b[0;34m)\u001b[0m\u001b[0;34m\u001b[0m\u001b[0;34m\u001b[0m\u001b[0m\n\u001b[0m\u001b[1;32m   1024\u001b[0m     \u001b[0mfig\u001b[0m\u001b[0;34m.\u001b[0m\u001b[0mcanvas\u001b[0m\u001b[0;34m.\u001b[0m\u001b[0mdraw_idle\u001b[0m\u001b[0;34m(\u001b[0m\u001b[0;34m)\u001b[0m  \u001b[0;31m# Need this if 'transparent=True', to reset colors.\u001b[0m\u001b[0;34m\u001b[0m\u001b[0;34m\u001b[0m\u001b[0m\n\u001b[1;32m   1025\u001b[0m     \u001b[0;32mreturn\u001b[0m \u001b[0mres\u001b[0m\u001b[0;34m\u001b[0m\u001b[0;34m\u001b[0m\u001b[0m\n",
            "\u001b[0;32m/usr/local/lib/python3.10/dist-packages/matplotlib/figure.py\u001b[0m in \u001b[0;36msavefig\u001b[0;34m(self, fname, transparent, **kwargs)\u001b[0m\n\u001b[1;32m   3341\u001b[0m                         ax.patch._cm_set(facecolor='none', edgecolor='none'))\n\u001b[1;32m   3342\u001b[0m \u001b[0;34m\u001b[0m\u001b[0m\n\u001b[0;32m-> 3343\u001b[0;31m             \u001b[0mself\u001b[0m\u001b[0;34m.\u001b[0m\u001b[0mcanvas\u001b[0m\u001b[0;34m.\u001b[0m\u001b[0mprint_figure\u001b[0m\u001b[0;34m(\u001b[0m\u001b[0mfname\u001b[0m\u001b[0;34m,\u001b[0m \u001b[0;34m**\u001b[0m\u001b[0mkwargs\u001b[0m\u001b[0;34m)\u001b[0m\u001b[0;34m\u001b[0m\u001b[0;34m\u001b[0m\u001b[0m\n\u001b[0m\u001b[1;32m   3344\u001b[0m \u001b[0;34m\u001b[0m\u001b[0m\n\u001b[1;32m   3345\u001b[0m     def ginput(self, n=1, timeout=30, show_clicks=True,\n",
            "\u001b[0;32m/usr/local/lib/python3.10/dist-packages/matplotlib/backend_bases.py\u001b[0m in \u001b[0;36mprint_figure\u001b[0;34m(self, filename, dpi, facecolor, edgecolor, orientation, format, bbox_inches, pad_inches, bbox_extra_artists, backend, **kwargs)\u001b[0m\n\u001b[1;32m   2364\u001b[0m                 \u001b[0;31m# force the figure dpi to 72), so we need to set it again here.\u001b[0m\u001b[0;34m\u001b[0m\u001b[0;34m\u001b[0m\u001b[0m\n\u001b[1;32m   2365\u001b[0m                 \u001b[0;32mwith\u001b[0m \u001b[0mcbook\u001b[0m\u001b[0;34m.\u001b[0m\u001b[0m_setattr_cm\u001b[0m\u001b[0;34m(\u001b[0m\u001b[0mself\u001b[0m\u001b[0;34m.\u001b[0m\u001b[0mfigure\u001b[0m\u001b[0;34m,\u001b[0m \u001b[0mdpi\u001b[0m\u001b[0;34m=\u001b[0m\u001b[0mdpi\u001b[0m\u001b[0;34m)\u001b[0m\u001b[0;34m:\u001b[0m\u001b[0;34m\u001b[0m\u001b[0;34m\u001b[0m\u001b[0m\n\u001b[0;32m-> 2366\u001b[0;31m                     result = print_method(\n\u001b[0m\u001b[1;32m   2367\u001b[0m                         \u001b[0mfilename\u001b[0m\u001b[0;34m,\u001b[0m\u001b[0;34m\u001b[0m\u001b[0;34m\u001b[0m\u001b[0m\n\u001b[1;32m   2368\u001b[0m                         \u001b[0mfacecolor\u001b[0m\u001b[0;34m=\u001b[0m\u001b[0mfacecolor\u001b[0m\u001b[0;34m,\u001b[0m\u001b[0;34m\u001b[0m\u001b[0;34m\u001b[0m\u001b[0m\n",
            "\u001b[0;32m/usr/local/lib/python3.10/dist-packages/matplotlib/backend_bases.py\u001b[0m in \u001b[0;36m<lambda>\u001b[0;34m(*args, **kwargs)\u001b[0m\n\u001b[1;32m   2230\u001b[0m                 \"bbox_inches_restore\"}\n\u001b[1;32m   2231\u001b[0m             \u001b[0mskip\u001b[0m \u001b[0;34m=\u001b[0m \u001b[0moptional_kws\u001b[0m \u001b[0;34m-\u001b[0m \u001b[0;34m{\u001b[0m\u001b[0;34m*\u001b[0m\u001b[0minspect\u001b[0m\u001b[0;34m.\u001b[0m\u001b[0msignature\u001b[0m\u001b[0;34m(\u001b[0m\u001b[0mmeth\u001b[0m\u001b[0;34m)\u001b[0m\u001b[0;34m.\u001b[0m\u001b[0mparameters\u001b[0m\u001b[0;34m}\u001b[0m\u001b[0;34m\u001b[0m\u001b[0;34m\u001b[0m\u001b[0m\n\u001b[0;32m-> 2232\u001b[0;31m             print_method = functools.wraps(meth)(lambda *args, **kwargs: meth(\n\u001b[0m\u001b[1;32m   2233\u001b[0m                 *args, **{k: v for k, v in kwargs.items() if k not in skip}))\n\u001b[1;32m   2234\u001b[0m         \u001b[0;32melse\u001b[0m\u001b[0;34m:\u001b[0m  \u001b[0;31m# Let third-parties do as they see fit.\u001b[0m\u001b[0;34m\u001b[0m\u001b[0;34m\u001b[0m\u001b[0m\n",
            "\u001b[0;32m/usr/local/lib/python3.10/dist-packages/matplotlib/backends/backend_agg.py\u001b[0m in \u001b[0;36mprint_png\u001b[0;34m(self, filename_or_obj, metadata, pil_kwargs)\u001b[0m\n\u001b[1;32m    507\u001b[0m             \u001b[0;34m*\u001b[0m\u001b[0mmetadata\u001b[0m\u001b[0;34m*\u001b[0m\u001b[0;34m,\u001b[0m \u001b[0mincluding\u001b[0m \u001b[0mthe\u001b[0m \u001b[0mdefault\u001b[0m \u001b[0;34m'Software'\u001b[0m \u001b[0mkey\u001b[0m\u001b[0;34m.\u001b[0m\u001b[0;34m\u001b[0m\u001b[0;34m\u001b[0m\u001b[0m\n\u001b[1;32m    508\u001b[0m         \"\"\"\n\u001b[0;32m--> 509\u001b[0;31m         \u001b[0mself\u001b[0m\u001b[0;34m.\u001b[0m\u001b[0m_print_pil\u001b[0m\u001b[0;34m(\u001b[0m\u001b[0mfilename_or_obj\u001b[0m\u001b[0;34m,\u001b[0m \u001b[0;34m\"png\"\u001b[0m\u001b[0;34m,\u001b[0m \u001b[0mpil_kwargs\u001b[0m\u001b[0;34m,\u001b[0m \u001b[0mmetadata\u001b[0m\u001b[0;34m)\u001b[0m\u001b[0;34m\u001b[0m\u001b[0;34m\u001b[0m\u001b[0m\n\u001b[0m\u001b[1;32m    510\u001b[0m \u001b[0;34m\u001b[0m\u001b[0m\n\u001b[1;32m    511\u001b[0m     \u001b[0;32mdef\u001b[0m \u001b[0mprint_to_buffer\u001b[0m\u001b[0;34m(\u001b[0m\u001b[0mself\u001b[0m\u001b[0;34m)\u001b[0m\u001b[0;34m:\u001b[0m\u001b[0;34m\u001b[0m\u001b[0;34m\u001b[0m\u001b[0m\n",
            "\u001b[0;32m/usr/local/lib/python3.10/dist-packages/matplotlib/backends/backend_agg.py\u001b[0m in \u001b[0;36m_print_pil\u001b[0;34m(self, filename_or_obj, fmt, pil_kwargs, metadata)\u001b[0m\n\u001b[1;32m    456\u001b[0m         \"\"\"\n\u001b[1;32m    457\u001b[0m         \u001b[0mFigureCanvasAgg\u001b[0m\u001b[0;34m.\u001b[0m\u001b[0mdraw\u001b[0m\u001b[0;34m(\u001b[0m\u001b[0mself\u001b[0m\u001b[0;34m)\u001b[0m\u001b[0;34m\u001b[0m\u001b[0;34m\u001b[0m\u001b[0m\n\u001b[0;32m--> 458\u001b[0;31m         mpl.image.imsave(\n\u001b[0m\u001b[1;32m    459\u001b[0m             \u001b[0mfilename_or_obj\u001b[0m\u001b[0;34m,\u001b[0m \u001b[0mself\u001b[0m\u001b[0;34m.\u001b[0m\u001b[0mbuffer_rgba\u001b[0m\u001b[0;34m(\u001b[0m\u001b[0;34m)\u001b[0m\u001b[0;34m,\u001b[0m \u001b[0mformat\u001b[0m\u001b[0;34m=\u001b[0m\u001b[0mfmt\u001b[0m\u001b[0;34m,\u001b[0m \u001b[0morigin\u001b[0m\u001b[0;34m=\u001b[0m\u001b[0;34m\"upper\"\u001b[0m\u001b[0;34m,\u001b[0m\u001b[0;34m\u001b[0m\u001b[0;34m\u001b[0m\u001b[0m\n\u001b[1;32m    460\u001b[0m             dpi=self.figure.dpi, metadata=metadata, pil_kwargs=pil_kwargs)\n",
            "\u001b[0;32m/usr/local/lib/python3.10/dist-packages/matplotlib/image.py\u001b[0m in \u001b[0;36mimsave\u001b[0;34m(fname, arr, vmin, vmax, cmap, format, origin, dpi, metadata, pil_kwargs)\u001b[0m\n\u001b[1;32m   1687\u001b[0m         \u001b[0mpil_kwargs\u001b[0m\u001b[0;34m.\u001b[0m\u001b[0msetdefault\u001b[0m\u001b[0;34m(\u001b[0m\u001b[0;34m\"format\"\u001b[0m\u001b[0;34m,\u001b[0m \u001b[0mformat\u001b[0m\u001b[0;34m)\u001b[0m\u001b[0;34m\u001b[0m\u001b[0;34m\u001b[0m\u001b[0m\n\u001b[1;32m   1688\u001b[0m         \u001b[0mpil_kwargs\u001b[0m\u001b[0;34m.\u001b[0m\u001b[0msetdefault\u001b[0m\u001b[0;34m(\u001b[0m\u001b[0;34m\"dpi\"\u001b[0m\u001b[0;34m,\u001b[0m \u001b[0;34m(\u001b[0m\u001b[0mdpi\u001b[0m\u001b[0;34m,\u001b[0m \u001b[0mdpi\u001b[0m\u001b[0;34m)\u001b[0m\u001b[0;34m)\u001b[0m\u001b[0;34m\u001b[0m\u001b[0;34m\u001b[0m\u001b[0m\n\u001b[0;32m-> 1689\u001b[0;31m         \u001b[0mimage\u001b[0m\u001b[0;34m.\u001b[0m\u001b[0msave\u001b[0m\u001b[0;34m(\u001b[0m\u001b[0mfname\u001b[0m\u001b[0;34m,\u001b[0m \u001b[0;34m**\u001b[0m\u001b[0mpil_kwargs\u001b[0m\u001b[0;34m)\u001b[0m\u001b[0;34m\u001b[0m\u001b[0;34m\u001b[0m\u001b[0m\n\u001b[0m\u001b[1;32m   1690\u001b[0m \u001b[0;34m\u001b[0m\u001b[0m\n\u001b[1;32m   1691\u001b[0m \u001b[0;34m\u001b[0m\u001b[0m\n",
            "\u001b[0;32m/usr/local/lib/python3.10/dist-packages/PIL/Image.py\u001b[0m in \u001b[0;36msave\u001b[0;34m(self, fp, format, **params)\u001b[0m\n\u001b[1;32m   2426\u001b[0m                 \u001b[0mfp\u001b[0m \u001b[0;34m=\u001b[0m \u001b[0mbuiltins\u001b[0m\u001b[0;34m.\u001b[0m\u001b[0mopen\u001b[0m\u001b[0;34m(\u001b[0m\u001b[0mfilename\u001b[0m\u001b[0;34m,\u001b[0m \u001b[0;34m\"r+b\"\u001b[0m\u001b[0;34m)\u001b[0m\u001b[0;34m\u001b[0m\u001b[0;34m\u001b[0m\u001b[0m\n\u001b[1;32m   2427\u001b[0m             \u001b[0;32melse\u001b[0m\u001b[0;34m:\u001b[0m\u001b[0;34m\u001b[0m\u001b[0;34m\u001b[0m\u001b[0m\n\u001b[0;32m-> 2428\u001b[0;31m                 \u001b[0mfp\u001b[0m \u001b[0;34m=\u001b[0m \u001b[0mbuiltins\u001b[0m\u001b[0;34m.\u001b[0m\u001b[0mopen\u001b[0m\u001b[0;34m(\u001b[0m\u001b[0mfilename\u001b[0m\u001b[0;34m,\u001b[0m \u001b[0;34m\"w+b\"\u001b[0m\u001b[0;34m)\u001b[0m\u001b[0;34m\u001b[0m\u001b[0;34m\u001b[0m\u001b[0m\n\u001b[0m\u001b[1;32m   2429\u001b[0m \u001b[0;34m\u001b[0m\u001b[0m\n\u001b[1;32m   2430\u001b[0m         \u001b[0;32mtry\u001b[0m\u001b[0;34m:\u001b[0m\u001b[0;34m\u001b[0m\u001b[0;34m\u001b[0m\u001b[0m\n",
            "\u001b[0;31mFileNotFoundError\u001b[0m: [Errno 2] No such file or directory: '/content/Saved Models_CDS_Project/DenseNet121_losscurves.png'"
          ]
        },
        {
          "output_type": "display_data",
          "data": {
            "text/plain": [
              "<Figure size 500x400 with 1 Axes>"
            ],
            "image/png": "[encoded data removed]"
          },
          "metadata": {}
        }
      ]
    },
    {
      "cell_type": "markdown",
      "source": [
        "# **Making predictions using test set on DenseNet121**\n",
        "\n",
        "Test metrics used:\n",
        "* Loss and accuracy\n",
        "* Classification Report: Precision, Recall and F1 Score\n",
        "* Confusion Matrix\n",
        "* ROC-AUC\n"
      ],
      "metadata": {
        "id": "skRO7kcBMSmB"
      }
    },
    {
      "cell_type": "markdown",
      "source": [
        "### **Loss, Accuracy & Classification Report (Precision, Recall, F1-score) for DenseNet121 Model Performance on Test Set**"
      ],
      "metadata": {
        "id": "NnPxlmi-MSmC"
      }
    },
    {
      "cell_type": "code",
      "source": [
        "test_generator.reset()\n",
        "\n",
        "# Predict output probabilities\n",
        "predictions = model_tl_dense.predict(test_generator, steps=np.ceil(test_generator.samples / test_generator.batch_size))\n",
        "predicted_classes = np.argmax(predictions, axis=1)\n",
        "\n",
        "# Get true classes from test generator\n",
        "true_classes = test_generator.classes\n",
        "class_labels = list(test_generator.class_indices.keys())\n",
        "\n",
        "# Generate and print a classification report\n",
        "report = classification_report(true_classes, predicted_classes, target_names=class_labels)\n",
        "print(report)\n",
        "\n",
        "# Returns loss and accuracy defined during model compilation\n",
        "loss, accuracy = model_tl_dense.evaluate(test_generator, steps=np.ceil(test_generator.samples / test_generator.batch_size))\n",
        "\n",
        "print(f'Loss: {loss:.4f}')\n",
        "print(f'Accuracy: {accuracy:.4f}')\n",
        "\n",
        "results_file_path = '/content/Saved Models_CDS_Project/DenseNet121_classificationreport+loss+accuracy.txt'\n",
        "\n",
        "with open(results_file_path, 'w') as file:\n",
        "    # Write classification report to file\n",
        "    file.write(\"Classification Report:\\n\")\n",
        "    file.write(report + \"\\n\\n\")  # report from classification_report\n",
        "\n",
        "    # Write loss and accuracy to file\n",
        "    file.write(f'Loss: {loss:.4f}\\n')\n",
        "    file.write(f'Accuracy: {accuracy:.4f}\\n')\n",
        "\n",
        "files.download('/content/Saved Models_CDS_Project/DenseNet121_classificationreport+loss+accuracy.txt')"
      ],
      "metadata": {
        "id": "9VxaBOMvMSmD",
        "colab": {
          "base_uri": "https://localhost:8080/",
          "height": 540
        },
        "outputId": "255b6c6f-b660-464e-cd7d-251ea31d54ed"
      },
      "execution_count": null,
      "outputs": [
        {
          "output_type": "stream",
          "name": "stdout",
          "text": [
            "510/510 [==============================] - 8s 11ms/step\n",
            "              precision    recall  f1-score   support\n",
            "\n",
            "   cardboard       0.25      0.24      0.25        82\n",
            "       glass       0.21      0.20      0.20       101\n",
            "       metal       0.20      0.21      0.20        82\n",
            "       paper       0.23      0.23      0.23       120\n",
            "     plastic       0.16      0.16      0.16        97\n",
            "       trash       0.07      0.07      0.07        28\n",
            "\n",
            "    accuracy                           0.20       510\n",
            "   macro avg       0.19      0.19      0.19       510\n",
            "weighted avg       0.20      0.20      0.20       510\n",
            "\n",
            "510/510 [==============================] - 6s 13ms/step - loss: 0.2716 - accuracy: 0.9549\n",
            "Loss: 0.2716\n",
            "Accuracy: 0.9549\n"
          ]
        },
        {
          "output_type": "error",
          "ename": "FileNotFoundError",
          "evalue": "[Errno 2] No such file or directory: '/content/Saved Models_CDS_Project/DenseNet121_classificationreport+loss+accuracy.txt'",
          "traceback": [
            "\u001b[0;31m---------------------------------------------------------------------------\u001b[0m",
            "\u001b[0;31mFileNotFoundError\u001b[0m                         Traceback (most recent call last)",
            "\u001b[0;32m<ipython-input-42-15635f2bb44f>\u001b[0m in \u001b[0;36m<cell line: 24>\u001b[0;34m()\u001b[0m\n\u001b[1;32m     22\u001b[0m \u001b[0mresults_file_path\u001b[0m \u001b[0;34m=\u001b[0m \u001b[0;34m'/content/Saved Models_CDS_Project/DenseNet121_classificationreport+loss+accuracy.txt'\u001b[0m\u001b[0;34m\u001b[0m\u001b[0;34m\u001b[0m\u001b[0m\n\u001b[1;32m     23\u001b[0m \u001b[0;34m\u001b[0m\u001b[0m\n\u001b[0;32m---> 24\u001b[0;31m \u001b[0;32mwith\u001b[0m \u001b[0mopen\u001b[0m\u001b[0;34m(\u001b[0m\u001b[0mresults_file_path\u001b[0m\u001b[0;34m,\u001b[0m \u001b[0;34m'w'\u001b[0m\u001b[0;34m)\u001b[0m \u001b[0;32mas\u001b[0m \u001b[0mfile\u001b[0m\u001b[0;34m:\u001b[0m\u001b[0;34m\u001b[0m\u001b[0;34m\u001b[0m\u001b[0m\n\u001b[0m\u001b[1;32m     25\u001b[0m     \u001b[0;31m# Write the classification report to the file\u001b[0m\u001b[0;34m\u001b[0m\u001b[0;34m\u001b[0m\u001b[0m\n\u001b[1;32m     26\u001b[0m     \u001b[0mfile\u001b[0m\u001b[0;34m.\u001b[0m\u001b[0mwrite\u001b[0m\u001b[0;34m(\u001b[0m\u001b[0;34m\"Classification Report:\\n\"\u001b[0m\u001b[0;34m)\u001b[0m\u001b[0;34m\u001b[0m\u001b[0;34m\u001b[0m\u001b[0m\n",
            "\u001b[0;31mFileNotFoundError\u001b[0m: [Errno 2] No such file or directory: '/content/Saved Models_CDS_Project/DenseNet121_classificationreport+loss+accuracy.txt'"
          ]
        }
      ]
    },
    {
      "cell_type": "markdown",
      "source": [
        "### **Confusion Matrix & ROC-AUC Curves for DenseNet121 Model Performance on Test Set**"
      ],
      "metadata": {
        "id": "zFW7njquMSmD"
      }
    },
    {
      "cell_type": "code",
      "source": [
        "## Confusion Matrix\n",
        "cm = confusion_matrix(true_classes, predicted_classes)\n",
        "plt.figure(figsize=(5, 4))\n",
        "\n",
        "sns.heatmap(cm, annot=True, fmt=\"d\",\n",
        "            cmap=sns.color_palette(\"flare\", as_cmap=True),\n",
        "            xticklabels=class_labels, yticklabels=class_labels,\n",
        "            linewidths=0.5, linecolor='black')\n",
        "plt.title('Confusion Matrix')\n",
        "plt.xlabel('Predicted Class')\n",
        "plt.ylabel('True Class')\n",
        "plt.savefig('/content/Saved Models_CDS_Project/DenseNet121_confusionmatrix.png', transparent=True)\n",
        "files.download('/content/Saved Models_CDS_Project/DenseNet121_confusionmatrix.png')\n",
        "plt.show()\n",
        "\n",
        "## ROC-AUC Curves\n",
        "\n",
        "# Binarize the output classes for ROC calculation\n",
        "true_classes_binarized = label_binarize(true_classes, classes=range(5))\n",
        "\n",
        "# Initialize dictionaries for false positive rates, true positive rates, and area under curves\n",
        "fpr = dict()\n",
        "tpr = dict()\n",
        "roc_auc = dict()\n",
        "\n",
        "# Calculate ROC curve and AUC for each class\n",
        "for i in range(5):\n",
        "    fpr[i], tpr[i], _ = roc_curve(true_classes_binarized[:, i], predictions[:, i])\n",
        "    roc_auc[i] = auc(fpr[i], tpr[i])\n",
        "\n",
        "# Plot ROC curves\n",
        "plt.figure(figsize=(6, 5))\n",
        "colors = cycle(['aqua', 'darkorange', 'cornflowerblue', 'green', 'red', 'purple'])\n",
        "for i, color in zip(range(5), colors):\n",
        "    # Use the 'labels' dictionary to fetch the class name using class index 'i'\n",
        "    label = labels[i]  # Fetch the class name for the current index\n",
        "    plt.plot(fpr[i], tpr[i], color=color, lw=2,\n",
        "             label=f'{label} (AUC = {roc_auc[i]:.2f})')  # Use the fetched class name in the label\n",
        "\n",
        "plt.plot([0, 1], [0, 1], 'k--', lw=2)\n",
        "plt.xlim([0.0, 1.0])\n",
        "plt.ylim([0.0, 1.05])\n",
        "plt.xlabel('False Positive Rate')\n",
        "plt.ylabel('True Positive Rate')\n",
        "plt.title('ROC Curves')\n",
        "plt.legend(loc=\"lower right\", title=\"Classes\", fontsize='small')\n",
        "plt.savefig('/content/Saved Models_CDS_Project/DenseNet121_rocauc.png', transparent=True)\n",
        "files.download('/content/Saved Models_CDS_Project/DenseNet121_rocauc.png')\n",
        "plt.show()"
      ],
      "metadata": {
        "id": "Lx1bG7AMMSmE"
      },
      "execution_count": null,
      "outputs": []
    }
  ]
}